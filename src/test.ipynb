{
 "cells": [
  {
   "cell_type": "code",
   "execution_count": 11,
   "metadata": {},
   "outputs": [],
   "source": [
    "import openpyxl\n",
    "import sys\n",
    "# Replace 'your_excel_file.xlsx' with the path to your Excel file\n",
    "file_path = '../data/inputs/test.xlsx'\n",
    "\n",
    "# Open the Excel file\n",
    "workbook = openpyxl.load_workbook(file_path)\n",
    "\n",
    "# Select the specific worksheet you want to work with\n",
    "worksheet = workbook.active\n",
    "\n",
    "# Define the row number you want to rewrite\n",
    "row_to_rewrite = 2  # Replace with the desired row number\n",
    "updated_values = [\"Updated Value 1\", \"Updated Value 2\", \"Updated Value 3\"]  # Replace with your updated values\n",
    "\n",
    "# Iterate through the rows in the worksheet\n",
    "for row_index, row in enumerate(worksheet.iter_rows(min_row=row_to_rewrite, max_row=row_to_rewrite)):\n",
    "    if row_index == 0:\n",
    "        # Access individual cells in the row and update them\n",
    "        for cell, new_value in zip(row, updated_values):\n",
    "            cell.value = new_value\n",
    "\n",
    "# Save the changes to the Excel file\n",
    "workbook.save('../data/inputs/test_updated.xlsx')\n",
    "\n",
    "# Close the workbook when done\n",
    "workbook.close()\n"
   ]
  },
  {
   "cell_type": "code",
   "execution_count": null,
   "metadata": {},
   "outputs": [],
   "source": [
    "\n",
    "import pandas as pd\n",
    "data = pd.DataFrame({'A': [3, 3, 2], 'B': [3, 3, 4], 'C': [7, 7, 7]})\n",
    "data.to_excel(\"../data/inputs/test.xlsx\", index = False)"
   ]
  }
 ],
 "metadata": {
  "kernelspec": {
   "display_name": "base",
   "language": "python",
   "name": "python3"
  },
  "language_info": {
   "codemirror_mode": {
    "name": "ipython",
    "version": 3
   },
   "file_extension": ".py",
   "mimetype": "text/x-python",
   "name": "python",
   "nbconvert_exporter": "python",
   "pygments_lexer": "ipython3",
   "version": "3.10.10"
  },
  "orig_nbformat": 4
 },
 "nbformat": 4,
 "nbformat_minor": 2
}
