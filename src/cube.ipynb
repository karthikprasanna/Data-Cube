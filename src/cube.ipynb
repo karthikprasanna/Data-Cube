{
 "cells": [
  {
   "cell_type": "code",
   "execution_count": 41,
   "metadata": {},
   "outputs": [],
   "source": [
    "import pandas as pd\n",
    "import numpy as np\n",
    "\n",
    "# data = pd.read_excel('../data/master.xlsx')\n",
    "data = {'A': [3, 1, 2], 'B': [3, 3, 4], 'C': [9, 7, 8]}\n",
    "data = pd.DataFrame(data)\n"
   ]
  },
  {
   "cell_type": "code",
   "execution_count": 42,
   "metadata": {},
   "outputs": [
    {
     "data": {
      "text/plain": [
       "Index(['A', 'B', 'C'], dtype='object')"
      ]
     },
     "execution_count": 42,
     "metadata": {},
     "output_type": "execute_result"
    }
   ],
   "source": [
    "data.columns"
   ]
  },
  {
   "cell_type": "code",
   "execution_count": 43,
   "metadata": {},
   "outputs": [
    {
     "data": {
      "text/html": [
       "<div>\n",
       "<style scoped>\n",
       "    .dataframe tbody tr th:only-of-type {\n",
       "        vertical-align: middle;\n",
       "    }\n",
       "\n",
       "    .dataframe tbody tr th {\n",
       "        vertical-align: top;\n",
       "    }\n",
       "\n",
       "    .dataframe thead th {\n",
       "        text-align: right;\n",
       "    }\n",
       "</style>\n",
       "<table border=\"1\" class=\"dataframe\">\n",
       "  <thead>\n",
       "    <tr style=\"text-align: right;\">\n",
       "      <th></th>\n",
       "      <th>A</th>\n",
       "      <th>B</th>\n",
       "      <th>C</th>\n",
       "    </tr>\n",
       "  </thead>\n",
       "  <tbody>\n",
       "    <tr>\n",
       "      <th>0</th>\n",
       "      <td>3</td>\n",
       "      <td>3</td>\n",
       "      <td>9</td>\n",
       "    </tr>\n",
       "    <tr>\n",
       "      <th>1</th>\n",
       "      <td>1</td>\n",
       "      <td>3</td>\n",
       "      <td>7</td>\n",
       "    </tr>\n",
       "    <tr>\n",
       "      <th>2</th>\n",
       "      <td>2</td>\n",
       "      <td>4</td>\n",
       "      <td>8</td>\n",
       "    </tr>\n",
       "  </tbody>\n",
       "</table>\n",
       "</div>"
      ],
      "text/plain": [
       "   A  B  C\n",
       "0  3  3  9\n",
       "1  1  3  7\n",
       "2  2  4  8"
      ]
     },
     "execution_count": 43,
     "metadata": {},
     "output_type": "execute_result"
    }
   ],
   "source": [
    "data.head()"
   ]
  },
  {
   "cell_type": "code",
   "execution_count": 44,
   "metadata": {},
   "outputs": [],
   "source": [
    "numDims = len(data.columns)\n",
    "minSup = 1\n",
    "outputRec = pd.DataFrame({\n",
    "    \"Combination\": [],\n",
    "    \"Count\": []\n",
    "})\n"
   ]
  },
  {
   "cell_type": "code",
   "execution_count": 45,
   "metadata": {},
   "outputs": [
    {
     "name": "stdout",
     "output_type": "stream",
     "text": [
      "3\n",
      "Empty DataFrame\n",
      "Columns: [Combination, Count]\n",
      "Index: []\n"
     ]
    }
   ],
   "source": [
    "print(numDims)\n",
    "print(outputRec)\n"
   ]
  },
  {
   "cell_type": "code",
   "execution_count": 46,
   "metadata": {},
   "outputs": [],
   "source": [
    "def Partition(input_df, dim, start_row, end_row, dataCount):\n",
    "    # Get the subset of the dataframe based on the specified rows and columns\n",
    "    subset_df = input_df.iloc[start_row:end_row + 1, dim:]\n",
    "\n",
    "    # Sort the subset dataframe by its values\n",
    "    sorted_df = subset_df.sort_values(by=list(subset_df.columns))\n",
    "\n",
    "    # Update the original dataframe with the sorted values\n",
    "    input_df.iloc[start_row:end_row + 1, dim:] = sorted_df.values\n",
    "\n",
    "    # Count the number of rows for each distinct value in the dim column of input_df\n",
    "    counts = sorted_df.iloc[:, 0].value_counts().sort_index().tolist()\n",
    "    dataCount.extend(counts)"
   ]
  },
  {
   "cell_type": "code",
   "execution_count": 47,
   "metadata": {},
   "outputs": [],
   "source": [
    "def BottomUpCube(input, dim, start_row, end_row, currentCombination):\n",
    "    for d in range(dim, numDims):\n",
    "        dataCount = []\n",
    "\n",
    "        Partition(input, d, start_row, end_row, dataCount)\n",
    "\n",
    "        k = start_row\n",
    "        for c in dataCount:\n",
    "            if c >= minSup:\n",
    "                outputRec.append({\n",
    "                    \"Combinations\": currentCombination + [input[d][k]],\n",
    "                    \"Count\": c\n",
    "                })\n",
    "                BottomUpCube(input, dim + 1, k, k + c - 1, currentCombination + [input[d][k]])\n",
    "\n",
    "            k += c    "
   ]
  },
  {
   "cell_type": "code",
   "execution_count": 48,
   "metadata": {},
   "outputs": [],
   "source": [
    "count = len(data)\n",
    "if count >= minSup:\n",
    "    outputRec = pd.concat([pd.DataFrame(outputRec), pd.DataFrame([{\"Combinations\": [], \"Count\": count}])], ignore_index=True)\n",
    "\n"
   ]
  },
  {
   "cell_type": "code",
   "execution_count": 49,
   "metadata": {},
   "outputs": [
    {
     "name": "stdout",
     "output_type": "stream",
     "text": [
      "   Combination  Count Combinations\n",
      "0          NaN    3.0           []\n"
     ]
    }
   ],
   "source": [
    "print(outputRec)"
   ]
  },
  {
   "cell_type": "code",
   "execution_count": 50,
   "metadata": {},
   "outputs": [
    {
     "ename": "KeyError",
     "evalue": "0",
     "output_type": "error",
     "traceback": [
      "\u001b[0;31m---------------------------------------------------------------------------\u001b[0m",
      "\u001b[0;31mKeyError\u001b[0m                                  Traceback (most recent call last)",
      "File \u001b[0;32m~/.local/lib/python3.10/site-packages/pandas/core/indexes/base.py:3802\u001b[0m, in \u001b[0;36mIndex.get_loc\u001b[0;34m(self, key, method, tolerance)\u001b[0m\n\u001b[1;32m   3801\u001b[0m \u001b[39mtry\u001b[39;00m:\n\u001b[0;32m-> 3802\u001b[0m     \u001b[39mreturn\u001b[39;00m \u001b[39mself\u001b[39;49m\u001b[39m.\u001b[39;49m_engine\u001b[39m.\u001b[39;49mget_loc(casted_key)\n\u001b[1;32m   3803\u001b[0m \u001b[39mexcept\u001b[39;00m \u001b[39mKeyError\u001b[39;00m \u001b[39mas\u001b[39;00m err:\n",
      "File \u001b[0;32m~/.local/lib/python3.10/site-packages/pandas/_libs/index.pyx:138\u001b[0m, in \u001b[0;36mpandas._libs.index.IndexEngine.get_loc\u001b[0;34m()\u001b[0m\n",
      "File \u001b[0;32m~/.local/lib/python3.10/site-packages/pandas/_libs/index.pyx:165\u001b[0m, in \u001b[0;36mpandas._libs.index.IndexEngine.get_loc\u001b[0;34m()\u001b[0m\n",
      "File \u001b[0;32mpandas/_libs/hashtable_class_helper.pxi:5745\u001b[0m, in \u001b[0;36mpandas._libs.hashtable.PyObjectHashTable.get_item\u001b[0;34m()\u001b[0m\n",
      "File \u001b[0;32mpandas/_libs/hashtable_class_helper.pxi:5753\u001b[0m, in \u001b[0;36mpandas._libs.hashtable.PyObjectHashTable.get_item\u001b[0;34m()\u001b[0m\n",
      "\u001b[0;31mKeyError\u001b[0m: 0",
      "\nThe above exception was the direct cause of the following exception:\n",
      "\u001b[0;31mKeyError\u001b[0m                                  Traceback (most recent call last)",
      "\u001b[1;32m/home/karthikprasanna/Desktop/Data-Cube/src/cube.ipynb Cell 10\u001b[0m line \u001b[0;36m1\n\u001b[0;32m----> <a href='vscode-notebook-cell:/home/karthikprasanna/Desktop/Data-Cube/src/cube.ipynb#X15sZmlsZQ%3D%3D?line=0'>1</a>\u001b[0m BottomUpCube(data, \u001b[39m0\u001b[39;49m, \u001b[39m0\u001b[39;49m, \u001b[39mlen\u001b[39;49m(data) \u001b[39m-\u001b[39;49m \u001b[39m1\u001b[39;49m, [])\n",
      "\u001b[1;32m/home/karthikprasanna/Desktop/Data-Cube/src/cube.ipynb Cell 10\u001b[0m line \u001b[0;36m1\n\u001b[1;32m      <a href='vscode-notebook-cell:/home/karthikprasanna/Desktop/Data-Cube/src/cube.ipynb#X15sZmlsZQ%3D%3D?line=6'>7</a>\u001b[0m \u001b[39mfor\u001b[39;00m c \u001b[39min\u001b[39;00m dataCount:\n\u001b[1;32m      <a href='vscode-notebook-cell:/home/karthikprasanna/Desktop/Data-Cube/src/cube.ipynb#X15sZmlsZQ%3D%3D?line=7'>8</a>\u001b[0m     \u001b[39mif\u001b[39;00m c \u001b[39m>\u001b[39m\u001b[39m=\u001b[39m minSup:\n\u001b[1;32m      <a href='vscode-notebook-cell:/home/karthikprasanna/Desktop/Data-Cube/src/cube.ipynb#X15sZmlsZQ%3D%3D?line=8'>9</a>\u001b[0m         outputRec\u001b[39m.\u001b[39mappend({\n\u001b[0;32m---> <a href='vscode-notebook-cell:/home/karthikprasanna/Desktop/Data-Cube/src/cube.ipynb#X15sZmlsZQ%3D%3D?line=9'>10</a>\u001b[0m             \u001b[39m\"\u001b[39m\u001b[39mCombinations\u001b[39m\u001b[39m\"\u001b[39m: currentCombination \u001b[39m+\u001b[39m [\u001b[39minput\u001b[39;49m[d][k]],\n\u001b[1;32m     <a href='vscode-notebook-cell:/home/karthikprasanna/Desktop/Data-Cube/src/cube.ipynb#X15sZmlsZQ%3D%3D?line=10'>11</a>\u001b[0m             \u001b[39m\"\u001b[39m\u001b[39mCount\u001b[39m\u001b[39m\"\u001b[39m: c\n\u001b[1;32m     <a href='vscode-notebook-cell:/home/karthikprasanna/Desktop/Data-Cube/src/cube.ipynb#X15sZmlsZQ%3D%3D?line=11'>12</a>\u001b[0m         })\n\u001b[1;32m     <a href='vscode-notebook-cell:/home/karthikprasanna/Desktop/Data-Cube/src/cube.ipynb#X15sZmlsZQ%3D%3D?line=12'>13</a>\u001b[0m         BottomUpCube(\u001b[39minput\u001b[39m, dim \u001b[39m+\u001b[39m \u001b[39m1\u001b[39m, k, k \u001b[39m+\u001b[39m c \u001b[39m-\u001b[39m \u001b[39m1\u001b[39m, currentCombination \u001b[39m+\u001b[39m [\u001b[39minput\u001b[39m[d][k]])\n\u001b[1;32m     <a href='vscode-notebook-cell:/home/karthikprasanna/Desktop/Data-Cube/src/cube.ipynb#X15sZmlsZQ%3D%3D?line=15'>16</a>\u001b[0m     k \u001b[39m+\u001b[39m\u001b[39m=\u001b[39m c\n",
      "File \u001b[0;32m~/.local/lib/python3.10/site-packages/pandas/core/frame.py:3807\u001b[0m, in \u001b[0;36mDataFrame.__getitem__\u001b[0;34m(self, key)\u001b[0m\n\u001b[1;32m   3805\u001b[0m \u001b[39mif\u001b[39;00m \u001b[39mself\u001b[39m\u001b[39m.\u001b[39mcolumns\u001b[39m.\u001b[39mnlevels \u001b[39m>\u001b[39m \u001b[39m1\u001b[39m:\n\u001b[1;32m   3806\u001b[0m     \u001b[39mreturn\u001b[39;00m \u001b[39mself\u001b[39m\u001b[39m.\u001b[39m_getitem_multilevel(key)\n\u001b[0;32m-> 3807\u001b[0m indexer \u001b[39m=\u001b[39m \u001b[39mself\u001b[39;49m\u001b[39m.\u001b[39;49mcolumns\u001b[39m.\u001b[39;49mget_loc(key)\n\u001b[1;32m   3808\u001b[0m \u001b[39mif\u001b[39;00m is_integer(indexer):\n\u001b[1;32m   3809\u001b[0m     indexer \u001b[39m=\u001b[39m [indexer]\n",
      "File \u001b[0;32m~/.local/lib/python3.10/site-packages/pandas/core/indexes/base.py:3804\u001b[0m, in \u001b[0;36mIndex.get_loc\u001b[0;34m(self, key, method, tolerance)\u001b[0m\n\u001b[1;32m   3802\u001b[0m     \u001b[39mreturn\u001b[39;00m \u001b[39mself\u001b[39m\u001b[39m.\u001b[39m_engine\u001b[39m.\u001b[39mget_loc(casted_key)\n\u001b[1;32m   3803\u001b[0m \u001b[39mexcept\u001b[39;00m \u001b[39mKeyError\u001b[39;00m \u001b[39mas\u001b[39;00m err:\n\u001b[0;32m-> 3804\u001b[0m     \u001b[39mraise\u001b[39;00m \u001b[39mKeyError\u001b[39;00m(key) \u001b[39mfrom\u001b[39;00m \u001b[39merr\u001b[39;00m\n\u001b[1;32m   3805\u001b[0m \u001b[39mexcept\u001b[39;00m \u001b[39mTypeError\u001b[39;00m:\n\u001b[1;32m   3806\u001b[0m     \u001b[39m# If we have a listlike key, _check_indexing_error will raise\u001b[39;00m\n\u001b[1;32m   3807\u001b[0m     \u001b[39m#  InvalidIndexError. Otherwise we fall through and re-raise\u001b[39;00m\n\u001b[1;32m   3808\u001b[0m     \u001b[39m#  the TypeError.\u001b[39;00m\n\u001b[1;32m   3809\u001b[0m     \u001b[39mself\u001b[39m\u001b[39m.\u001b[39m_check_indexing_error(key)\n",
      "\u001b[0;31mKeyError\u001b[0m: 0"
     ]
    }
   ],
   "source": [
    "BottomUpCube(data, 0, 0, len(data) - 1, [])"
   ]
  },
  {
   "cell_type": "code",
   "execution_count": null,
   "metadata": {},
   "outputs": [
    {
     "name": "stdout",
     "output_type": "stream",
     "text": [
      "   Combination  Count Combinations\n",
      "0          NaN    3.0           []\n"
     ]
    }
   ],
   "source": [
    "print(outputRec)"
   ]
  }
 ],
 "metadata": {
  "kernelspec": {
   "display_name": "Python 3",
   "language": "python",
   "name": "python3"
  },
  "language_info": {
   "codemirror_mode": {
    "name": "ipython",
    "version": 3
   },
   "file_extension": ".py",
   "mimetype": "text/x-python",
   "name": "python",
   "nbconvert_exporter": "python",
   "pygments_lexer": "ipython3",
   "version": "3.10.10"
  },
  "orig_nbformat": 4
 },
 "nbformat": 4,
 "nbformat_minor": 2
}
