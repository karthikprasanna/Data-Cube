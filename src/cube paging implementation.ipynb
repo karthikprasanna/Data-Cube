{
 "cells": [
  {
   "cell_type": "code",
   "execution_count": 41,
   "metadata": {},
   "outputs": [],
   "source": [
    "import pandas as pd\n",
    "import numpy as np\n",
    "\n",
    "# data = pd.read_excel('../data/master.xlsx')\n",
    "# data = pd.read_excel('../data/master.xlsx').sample(1000)\n",
    "data = {'A': [3, 3, 2], 'B': [3, 3, 4], 'C': [7, 7, 7]}\n",
    "data = pd.DataFrame(data)\n",
    "\n",
    "minSup = 1\n",
    "numDims = len(data.columns)\n",
    "outputRec = pd.DataFrame({\n",
    "    \"Combination\": [],\n",
    "    \"Count\": []\n",
    "})\n"
   ]
  },
  {
   "cell_type": "code",
   "execution_count": 42,
   "metadata": {},
   "outputs": [
    {
     "data": {
      "text/plain": [
       "Index(['A', 'B', 'C'], dtype='object')"
      ]
     },
     "execution_count": 42,
     "metadata": {},
     "output_type": "execute_result"
    }
   ],
   "source": [
    "data.columns"
   ]
  },
  {
   "cell_type": "code",
   "execution_count": 43,
   "metadata": {},
   "outputs": [
    {
     "data": {
      "text/html": [
       "<div>\n",
       "<style scoped>\n",
       "    .dataframe tbody tr th:only-of-type {\n",
       "        vertical-align: middle;\n",
       "    }\n",
       "\n",
       "    .dataframe tbody tr th {\n",
       "        vertical-align: top;\n",
       "    }\n",
       "\n",
       "    .dataframe thead th {\n",
       "        text-align: right;\n",
       "    }\n",
       "</style>\n",
       "<table border=\"1\" class=\"dataframe\">\n",
       "  <thead>\n",
       "    <tr style=\"text-align: right;\">\n",
       "      <th></th>\n",
       "      <th>A</th>\n",
       "      <th>B</th>\n",
       "      <th>C</th>\n",
       "    </tr>\n",
       "  </thead>\n",
       "  <tbody>\n",
       "    <tr>\n",
       "      <th>0</th>\n",
       "      <td>3</td>\n",
       "      <td>3</td>\n",
       "      <td>7</td>\n",
       "    </tr>\n",
       "    <tr>\n",
       "      <th>1</th>\n",
       "      <td>3</td>\n",
       "      <td>3</td>\n",
       "      <td>7</td>\n",
       "    </tr>\n",
       "    <tr>\n",
       "      <th>2</th>\n",
       "      <td>2</td>\n",
       "      <td>4</td>\n",
       "      <td>7</td>\n",
       "    </tr>\n",
       "  </tbody>\n",
       "</table>\n",
       "</div>"
      ],
      "text/plain": [
       "   A  B  C\n",
       "0  3  3  7\n",
       "1  3  3  7\n",
       "2  2  4  7"
      ]
     },
     "execution_count": 43,
     "metadata": {},
     "output_type": "execute_result"
    }
   ],
   "source": [
    "data.head()"
   ]
  },
  {
   "cell_type": "code",
   "execution_count": 44,
   "metadata": {},
   "outputs": [],
   "source": [
    "# unique_counts = data.nunique()\n",
    "# col_dict = dict(zip(unique_counts.index, unique_counts.values))\n",
    "# sorted_cols = sorted(col_dict, key=col_dict.get, reverse=True)\n",
    "# data = data[sorted_cols]"
   ]
  },
  {
   "cell_type": "code",
   "execution_count": 45,
   "metadata": {},
   "outputs": [
    {
     "data": {
      "text/html": [
       "<div>\n",
       "<style scoped>\n",
       "    .dataframe tbody tr th:only-of-type {\n",
       "        vertical-align: middle;\n",
       "    }\n",
       "\n",
       "    .dataframe tbody tr th {\n",
       "        vertical-align: top;\n",
       "    }\n",
       "\n",
       "    .dataframe thead th {\n",
       "        text-align: right;\n",
       "    }\n",
       "</style>\n",
       "<table border=\"1\" class=\"dataframe\">\n",
       "  <thead>\n",
       "    <tr style=\"text-align: right;\">\n",
       "      <th></th>\n",
       "      <th>A</th>\n",
       "      <th>B</th>\n",
       "      <th>C</th>\n",
       "    </tr>\n",
       "  </thead>\n",
       "  <tbody>\n",
       "    <tr>\n",
       "      <th>0</th>\n",
       "      <td>3</td>\n",
       "      <td>3</td>\n",
       "      <td>7</td>\n",
       "    </tr>\n",
       "    <tr>\n",
       "      <th>1</th>\n",
       "      <td>3</td>\n",
       "      <td>3</td>\n",
       "      <td>7</td>\n",
       "    </tr>\n",
       "    <tr>\n",
       "      <th>2</th>\n",
       "      <td>2</td>\n",
       "      <td>4</td>\n",
       "      <td>7</td>\n",
       "    </tr>\n",
       "  </tbody>\n",
       "</table>\n",
       "</div>"
      ],
      "text/plain": [
       "   A  B  C\n",
       "0  3  3  7\n",
       "1  3  3  7\n",
       "2  2  4  7"
      ]
     },
     "execution_count": 45,
     "metadata": {},
     "output_type": "execute_result"
    }
   ],
   "source": [
    "data.head()"
   ]
  },
  {
   "cell_type": "code",
   "execution_count": 46,
   "metadata": {},
   "outputs": [],
   "source": [
    "def Partition(input_df, dim, start_row, end_row, dataCount):\n",
    "    subset_df = input_df.iloc[start_row:end_row + 1, :]\n",
    "    sorted_df = subset_df.sort_values(by=input_df.columns[dim])\n",
    "    input_df.iloc[start_row:end_row + 1, :] = sorted_df.values\n",
    "    counts = sorted_df.iloc[:, dim].value_counts().sort_index().tolist()\n",
    "    dataCount.extend(counts)\n"
   ]
  },
  {
   "cell_type": "code",
   "execution_count": null,
   "metadata": {},
   "outputs": [],
   "source": [
    "import heapq\n",
    "\n",
    "def Partition(file_name, dim, start_row, end_row, dataCount):\n",
    "    pageSize = 1000\n",
    "    # read the file\n",
    "    skipCount = start_row - 1\n",
    "    if start_row == 0:\n",
    "        skipCount = 0\n",
    "\n",
    "    tempFileNames = []\n",
    "        \n",
    "    rows_read = 0\n",
    "    pageIndex = -1\n",
    "\n",
    "    while rows_read < end_row - start_row + 1:\n",
    "        readCount = pageSize\n",
    "        if rows_read + pageSize > end_row - start_row + 1:\n",
    "            readCount = end_row - start_row + 1 - rows_read\n",
    "\n",
    "        df = pd.read_excel(file_name, skiprows=skipCount, nrows=readCount, header=None)\n",
    "        skipCount += readCount\n",
    "        rows_read += readCount\n",
    "        pageIndex += 1\n",
    "\n",
    "        # sort the file\n",
    "        df = df.sort_values(by=df.columns[dim])\n",
    "\n",
    "        # write the file\n",
    "        tempFileName = \"../data/temporary/\" + str(pageIndex) + \".xlsx\"\n",
    "        df.to_excel(tempFileName, index=False, header=False)\n",
    "\n",
    "        # add the file name to the list\n",
    "        tempFileNames.append(tempFileName)\n",
    "\n",
    "    min_heap = []\n",
    "\n",
    "    # Open all the temporary files\n",
    "    file_handles = [open(tempFileName, 'r') for tempFileName in tempFileNames]\n",
    "\n",
    "    # open  our original file\n",
    "    original_file = open(file_name, 'r+')\n",
    "\n",
    "    # go to the start row\n",
    "    original_file.seek(start_row)\n",
    "\n",
    "    # Initialize the heap with the first row from each file\n",
    "    for i, file_handle in enumerate(file_handles):\n",
    "        row = pd.read_excel(file_handle, nrows=1, header=None)\n",
    "        heapq.heappush(min_heap, (row.iloc[0, dim], i, row))\n",
    "        file_handle.seek(1)\n",
    "\n",
    "    dataCountIndex = 0\n",
    "    prev_value = None\n",
    "\n",
    "    # while the heap is not empty\n",
    "    while len(min_heap) > 0:\n",
    "        value, file_index, row = heapq.heappop(min_heap)\n",
    "        original_file.write(row.to_string(header=False, index=False))\n",
    "        original_file.write(\"\\n\")\n",
    "\n",
    "        if prev_value is None:\n",
    "            prev_value = value\n",
    "            dataCount.append(1)\n",
    "        elif prev_value == value:\n",
    "            dataCount[dataCountIndex] += 1\n",
    "        else:\n",
    "            dataCountIndex += 1\n",
    "            dataCount.append(1)\n",
    "            prev_value = value\n",
    "\n",
    "        # read the next row from the file of index file_index if it is not empty\n",
    "        row = pd.read_excel(file_handles[file_index], nrows=1, header=None)\n",
    "        if not row.empty:\n",
    "            heapq.heappush(min_heap, (row.iloc[0, dim], file_index, row))\n",
    "            file_handles[file_index].seek(1)"
   ]
  },
  {
   "cell_type": "code",
   "execution_count": 47,
   "metadata": {},
   "outputs": [],
   "source": [
    "def BottomUpCube(input, dim, start_row, end_row, currentCombination, numDims, minSup):\n",
    "    global outputRec\n",
    "    for d in range(dim, numDims):\n",
    "        dataCount = []\n",
    "        Partition(input, d, start_row, end_row, dataCount)\n",
    "\n",
    "        k = start_row\n",
    "        for c in dataCount:\n",
    "            if c >= minSup:\n",
    "                outputRec = pd.concat([pd.DataFrame(outputRec), pd.DataFrame([{\n",
    "                    \"Combination\": currentCombination + [input.iloc[k, d]], \n",
    "                    \"Count\": c\n",
    "                    }])], ignore_index=True)\n",
    "\n",
    "                BottomUpCube(input, d + 1, k, k + c - 1, currentCombination + [input.iloc[k, d]], numDims, minSup)\n",
    "\n",
    "            k += c    "
   ]
  },
  {
   "cell_type": "code",
   "execution_count": 48,
   "metadata": {},
   "outputs": [],
   "source": [
    "count = len(data)\n",
    "if count >= minSup:\n",
    "    outputRec = pd.concat([pd.DataFrame(outputRec), pd.DataFrame([{\"Combination\": [], \"Count\": count}])], ignore_index=True)"
   ]
  },
  {
   "cell_type": "code",
   "execution_count": 49,
   "metadata": {},
   "outputs": [],
   "source": [
    "BottomUpCube(data, 0, 0, len(data) - 1, [], numDims, minSup)"
   ]
  },
  {
   "cell_type": "code",
   "execution_count": 50,
   "metadata": {},
   "outputs": [
    {
     "name": "stdout",
     "output_type": "stream",
     "text": [
      "   Combination  Count\n",
      "0           []    3.0\n",
      "1          [2]    1.0\n",
      "2       [2, 4]    1.0\n",
      "3    [2, 4, 7]    1.0\n",
      "4       [2, 7]    1.0\n",
      "5          [3]    2.0\n",
      "6       [3, 3]    2.0\n",
      "7    [3, 3, 7]    2.0\n",
      "8       [3, 7]    2.0\n",
      "9          [3]    2.0\n",
      "10      [3, 7]    2.0\n",
      "11         [4]    1.0\n",
      "12      [4, 7]    1.0\n",
      "13         [7]    3.0\n"
     ]
    }
   ],
   "source": [
    "print(outputRec)"
   ]
  },
  {
   "cell_type": "code",
   "execution_count": 51,
   "metadata": {},
   "outputs": [
    {
     "data": {
      "text/html": [
       "<div>\n",
       "<style scoped>\n",
       "    .dataframe tbody tr th:only-of-type {\n",
       "        vertical-align: middle;\n",
       "    }\n",
       "\n",
       "    .dataframe tbody tr th {\n",
       "        vertical-align: top;\n",
       "    }\n",
       "\n",
       "    .dataframe thead th {\n",
       "        text-align: right;\n",
       "    }\n",
       "</style>\n",
       "<table border=\"1\" class=\"dataframe\">\n",
       "  <thead>\n",
       "    <tr style=\"text-align: right;\">\n",
       "      <th></th>\n",
       "      <th>A</th>\n",
       "      <th>B</th>\n",
       "      <th>C</th>\n",
       "    </tr>\n",
       "  </thead>\n",
       "  <tbody>\n",
       "    <tr>\n",
       "      <th>0</th>\n",
       "      <td>3</td>\n",
       "      <td>3</td>\n",
       "      <td>7</td>\n",
       "    </tr>\n",
       "    <tr>\n",
       "      <th>1</th>\n",
       "      <td>3</td>\n",
       "      <td>3</td>\n",
       "      <td>7</td>\n",
       "    </tr>\n",
       "    <tr>\n",
       "      <th>2</th>\n",
       "      <td>2</td>\n",
       "      <td>4</td>\n",
       "      <td>7</td>\n",
       "    </tr>\n",
       "  </tbody>\n",
       "</table>\n",
       "</div>"
      ],
      "text/plain": [
       "   A  B  C\n",
       "0  3  3  7\n",
       "1  3  3  7\n",
       "2  2  4  7"
      ]
     },
     "execution_count": 51,
     "metadata": {},
     "output_type": "execute_result"
    }
   ],
   "source": [
    "data.head()"
   ]
  }
 ],
 "metadata": {
  "kernelspec": {
   "display_name": "Python 3",
   "language": "python",
   "name": "python3"
  },
  "language_info": {
   "codemirror_mode": {
    "name": "ipython",
    "version": 3
   },
   "file_extension": ".py",
   "mimetype": "text/x-python",
   "name": "python",
   "nbconvert_exporter": "python",
   "pygments_lexer": "ipython3",
   "version": "3.10.10"
  },
  "orig_nbformat": 4
 },
 "nbformat": 4,
 "nbformat_minor": 2
}
