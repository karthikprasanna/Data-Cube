{
 "cells": [
  {
   "cell_type": "code",
   "execution_count": 734,
   "metadata": {},
   "outputs": [],
   "source": [
    "import pandas as pd\n",
    "import numpy as np\n",
    "\n",
    "# data = pd.read_excel('../data/master.xlsx')\n",
    "# data = pd.read_excel('../data/master.xlsx').sample(1000)\n",
    "data = {'A': [3, 3, 2], 'B': [3, 3, 4], 'C': [7, 7, 7]}\n",
    "data = pd.DataFrame(data)\n",
    "\n",
    "minSup = 1\n",
    "numDims = len(data.columns)\n",
    "outputRec = pd.DataFrame({\n",
    "    \"Combination\": [],\n",
    "    \"Count\": []\n",
    "})\n"
   ]
  },
  {
   "cell_type": "code",
   "execution_count": 735,
   "metadata": {},
   "outputs": [
    {
     "data": {
      "text/plain": [
       "Index(['A', 'B', 'C'], dtype='object')"
      ]
     },
     "execution_count": 735,
     "metadata": {},
     "output_type": "execute_result"
    }
   ],
   "source": [
    "data.columns"
   ]
  },
  {
   "cell_type": "code",
   "execution_count": 736,
   "metadata": {},
   "outputs": [
    {
     "data": {
      "text/html": [
       "<div>\n",
       "<style scoped>\n",
       "    .dataframe tbody tr th:only-of-type {\n",
       "        vertical-align: middle;\n",
       "    }\n",
       "\n",
       "    .dataframe tbody tr th {\n",
       "        vertical-align: top;\n",
       "    }\n",
       "\n",
       "    .dataframe thead th {\n",
       "        text-align: right;\n",
       "    }\n",
       "</style>\n",
       "<table border=\"1\" class=\"dataframe\">\n",
       "  <thead>\n",
       "    <tr style=\"text-align: right;\">\n",
       "      <th></th>\n",
       "      <th>A</th>\n",
       "      <th>B</th>\n",
       "      <th>C</th>\n",
       "    </tr>\n",
       "  </thead>\n",
       "  <tbody>\n",
       "    <tr>\n",
       "      <th>0</th>\n",
       "      <td>3</td>\n",
       "      <td>3</td>\n",
       "      <td>7</td>\n",
       "    </tr>\n",
       "    <tr>\n",
       "      <th>1</th>\n",
       "      <td>3</td>\n",
       "      <td>3</td>\n",
       "      <td>7</td>\n",
       "    </tr>\n",
       "    <tr>\n",
       "      <th>2</th>\n",
       "      <td>2</td>\n",
       "      <td>4</td>\n",
       "      <td>7</td>\n",
       "    </tr>\n",
       "  </tbody>\n",
       "</table>\n",
       "</div>"
      ],
      "text/plain": [
       "   A  B  C\n",
       "0  3  3  7\n",
       "1  3  3  7\n",
       "2  2  4  7"
      ]
     },
     "execution_count": 736,
     "metadata": {},
     "output_type": "execute_result"
    }
   ],
   "source": [
    "data.head()"
   ]
  },
  {
   "cell_type": "code",
   "execution_count": 737,
   "metadata": {},
   "outputs": [],
   "source": [
    "# unique_counts = data.nunique()\n",
    "# col_dict = dict(zip(unique_counts.index, unique_counts.values))\n",
    "# sorted_cols = sorted(col_dict, key=col_dict.get, reverse=True)\n",
    "# data = data[sorted_cols]"
   ]
  },
  {
   "cell_type": "code",
   "execution_count": 738,
   "metadata": {},
   "outputs": [
    {
     "data": {
      "text/html": [
       "<div>\n",
       "<style scoped>\n",
       "    .dataframe tbody tr th:only-of-type {\n",
       "        vertical-align: middle;\n",
       "    }\n",
       "\n",
       "    .dataframe tbody tr th {\n",
       "        vertical-align: top;\n",
       "    }\n",
       "\n",
       "    .dataframe thead th {\n",
       "        text-align: right;\n",
       "    }\n",
       "</style>\n",
       "<table border=\"1\" class=\"dataframe\">\n",
       "  <thead>\n",
       "    <tr style=\"text-align: right;\">\n",
       "      <th></th>\n",
       "      <th>A</th>\n",
       "      <th>B</th>\n",
       "      <th>C</th>\n",
       "    </tr>\n",
       "  </thead>\n",
       "  <tbody>\n",
       "    <tr>\n",
       "      <th>0</th>\n",
       "      <td>3</td>\n",
       "      <td>3</td>\n",
       "      <td>7</td>\n",
       "    </tr>\n",
       "    <tr>\n",
       "      <th>1</th>\n",
       "      <td>3</td>\n",
       "      <td>3</td>\n",
       "      <td>7</td>\n",
       "    </tr>\n",
       "    <tr>\n",
       "      <th>2</th>\n",
       "      <td>2</td>\n",
       "      <td>4</td>\n",
       "      <td>7</td>\n",
       "    </tr>\n",
       "  </tbody>\n",
       "</table>\n",
       "</div>"
      ],
      "text/plain": [
       "   A  B  C\n",
       "0  3  3  7\n",
       "1  3  3  7\n",
       "2  2  4  7"
      ]
     },
     "execution_count": 738,
     "metadata": {},
     "output_type": "execute_result"
    }
   ],
   "source": [
    "data.head()"
   ]
  },
  {
   "cell_type": "code",
   "execution_count": 739,
   "metadata": {},
   "outputs": [],
   "source": [
    "# def Partition(input_df, dim, start_row, end_row, dataCount):\n",
    "#     subset_df = input_df.iloc[start_row:end_row + 1, :]\n",
    "#     sorted_df = subset_df.sort_values(by=input_df.columns[dim])\n",
    "#     input_df.iloc[start_row:end_row + 1, :] = sorted_df.values\n",
    "#     counts = sorted_df.iloc[:, dim].value_counts().sort_index().tolist()\n",
    "#     dataCount.extend(counts)\n"
   ]
  },
  {
   "cell_type": "code",
   "execution_count": 764,
   "metadata": {},
   "outputs": [
    {
     "name": "stdout",
     "output_type": "stream",
     "text": [
      "['../data/temporary/0.xlsx', '../data/temporary/1.xlsx']\n",
      "the above code is optimised as our dataset did not fit the main memory\n",
      "(9, 2, 2)\n",
      "(11, 3, 7)\n"
     ]
    },
    {
     "name": "stderr",
     "output_type": "stream",
     "text": [
      "/tmp/ipykernel_8664/675156592.py:24: FutureWarning: The frame.append method is deprecated and will be removed from pandas in a future version. Use pandas.concat instead.\n",
      "  df = df.append(pd.DataFrame([row]), ignore_index=True)\n",
      "/tmp/ipykernel_8664/675156592.py:24: FutureWarning: The frame.append method is deprecated and will be removed from pandas in a future version. Use pandas.concat instead.\n",
      "  df = df.append(pd.DataFrame([row]), ignore_index=True)\n"
     ]
    }
   ],
   "source": [
    "import heapq\n",
    "import os\n",
    "import openpyxl\n",
    "\n",
    "def Partition(file_name, dim, start_row, end_row, dataCount):\n",
    "    workbook = openpyxl.load_workbook(file_name)\n",
    "    worksheet = workbook.active\n",
    "    tempFileNames = []\n",
    "\n",
    "    line_number = 0\n",
    "    pageSize = 2\n",
    "    pageIndex = 0\n",
    "    df = pd.DataFrame()\n",
    "    for row in worksheet.iter_rows(min_row=start_row+2, max_row=end_row+2, values_only=True):\n",
    "        if line_number >= pageSize:\n",
    "            df.sort_values(by=df.columns[dim], inplace=True)\n",
    "            tempFileName = \"../data/temporary/\" + str(pageIndex) + \".xlsx\"\n",
    "            df.to_excel(tempFileName, index=False, header=False)\n",
    "            tempFileNames.append(tempFileName)\n",
    "            line_number = 0\n",
    "            pageIndex += 1\n",
    "            df = pd.DataFrame()\n",
    "\n",
    "        df = df.append(pd.DataFrame([row]), ignore_index=True)\n",
    "        line_number += 1\n",
    "\n",
    "    if line_number > 0:\n",
    "        df.sort_values(by=df.columns[dim], inplace=True)\n",
    "        tempFileName = \"../data/temporary/\" + str(pageIndex) + \".xlsx\"\n",
    "        df.to_excel(tempFileName, index=False, header=False)\n",
    "        tempFileNames.append(tempFileName)\n",
    "        pageIndex += 1\n",
    "\n",
    "    print(tempFileNames)\n",
    "\n",
    "    print(\"the above code is optimised as our dataset did not fit the main memory\")\n",
    "\n",
    "\n",
    "    min_heap = []\n",
    "\n",
    "    file_handles = [openpyxl.load_workbook(tempFileName).active for tempFileName in tempFileNames]\n",
    "    iterators = [file.iter_rows(values_only=True) for file in file_handles]\n",
    "    current_row = start_row+2\n",
    "\n",
    "    # Push the <value, pageid, row> of the first row of each file_handle to the min heap\n",
    "    for i, iterator in enumerate(iterators):\n",
    "        first_row = next(iterator)\n",
    "        heapq.heappush(min_heap, (first_row[dim], i, first_row))\n",
    "\n",
    "\n",
    "    # # While the heap is not empty\n",
    "    # while len(min_heap) > 0:\n",
    "    #     value, file_index, row = heapq.heappop(min_heap)\n",
    "\n",
    "    #     # Rewrite the current row of the original file\n",
    "    #     original_row = worksheet[row]\n",
    "    #     original_row[dim].value = value\n",
    "\n",
    "    #     dataCountLength = len(dataCount)\n",
    "    #     if dataCountLength == 0:\n",
    "    #         dataCount[value] = 1\n",
    "    #     elif value in dataCount:\n",
    "    #         dataCount[value] += 1\n",
    "    #     else:\n",
    "    #         dataCount[value] = 1\n",
    "\n",
    "    #     # Read the next row from the file of index page_index if it is not empty\n",
    "    #     try:\n",
    "    #         next_row = next(file_handles[file_index].iter_rows(values_only=True))\n",
    "    #         heapq.heappush(min_heap, (next_row[dim], file_index, current_row))\n",
    "    #         current_row += 1\n",
    "    #     except StopIteration:\n",
    "    #         # The file is empty, no more rows to read from it\n",
    "    #         continue\n",
    "\n",
    "\n",
    "    # # Delete all the temporary files\n",
    "    # for tempFileName in tempFileNames:\n",
    "    #     os.remove(tempFileName)\n",
    "\n",
    "    # # Save the changes to the original workbook\n",
    "    # workbook.save(file_name)\n",
    "\n",
    "    # #push the <value, pageid, row> of the first row of each file_handle to the min heap\n",
    "\n",
    "\n",
    "    # # while the heap is not empty\n",
    "    # while len(min_heap) > 0:\n",
    "    #     value, file_index, row = heapq.heappop(min_heap)\n",
    "        \n",
    "    #     #rewrite the current row of original file\n",
    "\n",
    "    #     dataCountLength = len(dataCount)\n",
    "    #     if dataCountLength == 0:\n",
    "    #         dataCount.append({\n",
    "    #             \"value\": value,\n",
    "    #             \"count\": 1\n",
    "    #         })\n",
    "    #     elif dataCount[dataCountLength - 1][\"value\"] == value:\n",
    "    #         dataCount[dataCountLength - 1][\"count\"] += 1\n",
    "    #     else:\n",
    "    #         dataCount.append({\n",
    "    #             \"value\": value,\n",
    "    #             \"count\": 1\n",
    "    #         })\n",
    "\n",
    "    #     # read the next row from the file of index page_index if it is not empty\n",
    "        \n",
    "\n",
    "\n",
    "    # # close all the files\n",
    "\n",
    "    # # delete all the temporary files\n",
    "    # for tempFileName in tempFileNames:\n",
    "    #     os.remove(tempFileName)"
   ]
  },
  {
   "cell_type": "code",
   "execution_count": 757,
   "metadata": {},
   "outputs": [
    {
     "name": "stdout",
     "output_type": "stream",
     "text": [
      "['../data/temporary/0.xlsx', '../data/temporary/1.xlsx']\n",
      "the above code is optimised as our dataset did not fit the main memory\n",
      "('A', 'D', 'C')\n",
      "('A', 'D', 'C')\n"
     ]
    },
    {
     "name": "stderr",
     "output_type": "stream",
     "text": [
      "/tmp/ipykernel_8664/2255354592.py:24: FutureWarning: The frame.append method is deprecated and will be removed from pandas in a future version. Use pandas.concat instead.\n",
      "  df = df.append(pd.DataFrame([row]), ignore_index=True)\n",
      "/tmp/ipykernel_8664/2255354592.py:24: FutureWarning: The frame.append method is deprecated and will be removed from pandas in a future version. Use pandas.concat instead.\n",
      "  df = df.append(pd.DataFrame([row]), ignore_index=True)\n"
     ]
    }
   ],
   "source": [
    "Partition(\"../data/inputs/test.xlsx\", 0, 0, 3, {})"
   ]
  },
  {
   "cell_type": "code",
   "execution_count": 742,
   "metadata": {},
   "outputs": [],
   "source": [
    "# def BottomUpCube(input, dim, start_row, end_row, currentCombination, numDims, minSup):\n",
    "#     global outputRec\n",
    "#     for d in range(dim, numDims):\n",
    "#         dataCount = {}\n",
    "#         Partition(input, d, start_row, end_row, dataCount)\n",
    "\n",
    "#         k = start_row\n",
    "#         for value, c in dataCount.items():\n",
    "#             if c >= minSup:\n",
    "#                 outputRec = pd.concat([pd.DataFrame(outputRec), pd.DataFrame([{\n",
    "#                     \"Combination\": currentCombination + [value], \n",
    "#                     \"Count\": c\n",
    "#                     }])], ignore_index=True)\n",
    "\n",
    "#                 BottomUpCube(input, d + 1, k, k + c - 1, currentCombination + [value], numDims, minSup)\n",
    "\n",
    "#             k += c    "
   ]
  },
  {
   "cell_type": "code",
   "execution_count": 743,
   "metadata": {},
   "outputs": [],
   "source": [
    "# count = len(data)\n",
    "# if count >= minSup:\n",
    "#     outputRec = pd.concat([pd.DataFrame(outputRec), pd.DataFrame([{\"Combination\": [], \"Count\": count}])], ignore_index=True)"
   ]
  },
  {
   "cell_type": "code",
   "execution_count": 744,
   "metadata": {},
   "outputs": [],
   "source": [
    "# fileName = \"../data/inputs/test.xlsx\""
   ]
  },
  {
   "cell_type": "code",
   "execution_count": 745,
   "metadata": {},
   "outputs": [],
   "source": [
    "# BottomUpCube(fileName, 0, 0, 3, [], numDims, minSup)"
   ]
  },
  {
   "cell_type": "code",
   "execution_count": 746,
   "metadata": {},
   "outputs": [],
   "source": [
    "# print(outputRec)"
   ]
  },
  {
   "cell_type": "code",
   "execution_count": 747,
   "metadata": {},
   "outputs": [],
   "source": [
    "# data.head()"
   ]
  }
 ],
 "metadata": {
  "kernelspec": {
   "display_name": "Python 3",
   "language": "python",
   "name": "python3"
  },
  "language_info": {
   "codemirror_mode": {
    "name": "ipython",
    "version": 3
   },
   "file_extension": ".py",
   "mimetype": "text/x-python",
   "name": "python",
   "nbconvert_exporter": "python",
   "pygments_lexer": "ipython3",
   "version": "3.10.10"
  },
  "orig_nbformat": 4
 },
 "nbformat": 4,
 "nbformat_minor": 2
}
