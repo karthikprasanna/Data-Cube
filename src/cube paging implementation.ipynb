{
 "cells": [
  {
   "cell_type": "code",
   "execution_count": 191,
   "metadata": {},
   "outputs": [],
   "source": [
    "import pandas as pd\n",
    "import numpy as np\n",
    "\n",
    "# data = pd.read_excel('../data/master.xlsx')\n",
    "# data = pd.read_excel('../data/master.xlsx').sample(1000)\n",
    "data = {'A': [3, 3, 2], 'B': [3, 3, 4], 'C': [7, 7, 7]}\n",
    "data = pd.DataFrame(data)\n",
    "\n",
    "minSup = 1\n",
    "numDims = len(data.columns)\n",
    "outputRec = pd.DataFrame({\n",
    "    \"Combination\": [],\n",
    "    \"Count\": []\n",
    "})\n"
   ]
  },
  {
   "cell_type": "code",
   "execution_count": 192,
   "metadata": {},
   "outputs": [
    {
     "data": {
      "text/plain": [
       "Index(['A', 'B', 'C'], dtype='object')"
      ]
     },
     "execution_count": 192,
     "metadata": {},
     "output_type": "execute_result"
    }
   ],
   "source": [
    "data.columns"
   ]
  },
  {
   "cell_type": "code",
   "execution_count": 193,
   "metadata": {},
   "outputs": [
    {
     "data": {
      "text/html": [
       "<div>\n",
       "<style scoped>\n",
       "    .dataframe tbody tr th:only-of-type {\n",
       "        vertical-align: middle;\n",
       "    }\n",
       "\n",
       "    .dataframe tbody tr th {\n",
       "        vertical-align: top;\n",
       "    }\n",
       "\n",
       "    .dataframe thead th {\n",
       "        text-align: right;\n",
       "    }\n",
       "</style>\n",
       "<table border=\"1\" class=\"dataframe\">\n",
       "  <thead>\n",
       "    <tr style=\"text-align: right;\">\n",
       "      <th></th>\n",
       "      <th>A</th>\n",
       "      <th>B</th>\n",
       "      <th>C</th>\n",
       "    </tr>\n",
       "  </thead>\n",
       "  <tbody>\n",
       "    <tr>\n",
       "      <th>0</th>\n",
       "      <td>3</td>\n",
       "      <td>3</td>\n",
       "      <td>7</td>\n",
       "    </tr>\n",
       "    <tr>\n",
       "      <th>1</th>\n",
       "      <td>3</td>\n",
       "      <td>3</td>\n",
       "      <td>7</td>\n",
       "    </tr>\n",
       "    <tr>\n",
       "      <th>2</th>\n",
       "      <td>2</td>\n",
       "      <td>4</td>\n",
       "      <td>7</td>\n",
       "    </tr>\n",
       "  </tbody>\n",
       "</table>\n",
       "</div>"
      ],
      "text/plain": [
       "   A  B  C\n",
       "0  3  3  7\n",
       "1  3  3  7\n",
       "2  2  4  7"
      ]
     },
     "execution_count": 193,
     "metadata": {},
     "output_type": "execute_result"
    }
   ],
   "source": [
    "data.head()"
   ]
  },
  {
   "cell_type": "code",
   "execution_count": 194,
   "metadata": {},
   "outputs": [],
   "source": [
    "# unique_counts = data.nunique()\n",
    "# col_dict = dict(zip(unique_counts.index, unique_counts.values))\n",
    "# sorted_cols = sorted(col_dict, key=col_dict.get, reverse=True)\n",
    "# data = data[sorted_cols]"
   ]
  },
  {
   "cell_type": "code",
   "execution_count": 195,
   "metadata": {},
   "outputs": [
    {
     "data": {
      "text/html": [
       "<div>\n",
       "<style scoped>\n",
       "    .dataframe tbody tr th:only-of-type {\n",
       "        vertical-align: middle;\n",
       "    }\n",
       "\n",
       "    .dataframe tbody tr th {\n",
       "        vertical-align: top;\n",
       "    }\n",
       "\n",
       "    .dataframe thead th {\n",
       "        text-align: right;\n",
       "    }\n",
       "</style>\n",
       "<table border=\"1\" class=\"dataframe\">\n",
       "  <thead>\n",
       "    <tr style=\"text-align: right;\">\n",
       "      <th></th>\n",
       "      <th>A</th>\n",
       "      <th>B</th>\n",
       "      <th>C</th>\n",
       "    </tr>\n",
       "  </thead>\n",
       "  <tbody>\n",
       "    <tr>\n",
       "      <th>0</th>\n",
       "      <td>3</td>\n",
       "      <td>3</td>\n",
       "      <td>7</td>\n",
       "    </tr>\n",
       "    <tr>\n",
       "      <th>1</th>\n",
       "      <td>3</td>\n",
       "      <td>3</td>\n",
       "      <td>7</td>\n",
       "    </tr>\n",
       "    <tr>\n",
       "      <th>2</th>\n",
       "      <td>2</td>\n",
       "      <td>4</td>\n",
       "      <td>7</td>\n",
       "    </tr>\n",
       "  </tbody>\n",
       "</table>\n",
       "</div>"
      ],
      "text/plain": [
       "   A  B  C\n",
       "0  3  3  7\n",
       "1  3  3  7\n",
       "2  2  4  7"
      ]
     },
     "execution_count": 195,
     "metadata": {},
     "output_type": "execute_result"
    }
   ],
   "source": [
    "data.head()"
   ]
  },
  {
   "cell_type": "code",
   "execution_count": 196,
   "metadata": {},
   "outputs": [],
   "source": [
    "# def Partition(input_df, dim, start_row, end_row, dataCount):\n",
    "#     subset_df = input_df.iloc[start_row:end_row + 1, :]\n",
    "#     sorted_df = subset_df.sort_values(by=input_df.columns[dim])\n",
    "#     input_df.iloc[start_row:end_row + 1, :] = sorted_df.values\n",
    "#     counts = sorted_df.iloc[:, dim].value_counts().sort_index().tolist()\n",
    "#     dataCount.extend(counts)\n"
   ]
  },
  {
   "cell_type": "code",
   "execution_count": 197,
   "metadata": {},
   "outputs": [],
   "source": [
    "import heapq\n",
    "import os\n",
    "\n",
    "def Partition(file_name, dim, start_row, end_row, dataCount):\n",
    "    pageSize = 1\n",
    "    # read the file\n",
    "    skipCount = start_row - 1\n",
    "    if start_row == 0:\n",
    "        skipCount = 0\n",
    "\n",
    "    tempFileNames = []\n",
    "        \n",
    "    rows_read = 0\n",
    "    pageIndex = -1\n",
    "\n",
    "    while rows_read < end_row - start_row + 1:\n",
    "        readCount = pageSize\n",
    "        if rows_read + pageSize > end_row - start_row + 1:\n",
    "            readCount = end_row - start_row + 1 - rows_read\n",
    "\n",
    "        print(\"Page Index: \" + str(pageIndex))\n",
    "\n",
    "        df = pd.read_excel(file_name, skiprows=skipCount, nrows=readCount, header=0)\n",
    "        skipCount += readCount\n",
    "        rows_read += readCount\n",
    "        pageIndex += 1\n",
    "        print(rows_read, start_row, end_row, end_row - start_row + 1, readCount, skipCount)\n",
    "\n",
    "        print(df)\n",
    "        \n",
    "\n",
    "        # sort the file\n",
    "        df = df.sort_values(by=str(df.columns[dim]))\n",
    "\n",
    "        # write the file\n",
    "        tempFileName = \"../data/temporary/\" + str(pageIndex) + \".xlsx\"\n",
    "        df.to_excel(tempFileName, index=False, header=False)\n",
    "\n",
    "        # add the file name to the list\n",
    "        tempFileNames.append(tempFileName)\n",
    "\n",
    "    min_heap = []\n",
    "\n",
    "    # Open all the temporary files\n",
    "    file_handles = [open(tempFileName, 'r') for tempFileName in tempFileNames]\n",
    "\n",
    "    # open  our original file\n",
    "    original_file = open(file_name, 'r+')\n",
    "\n",
    "    # go to the start row\n",
    "    original_file.seek(start_row)\n",
    "\n",
    "    # Initialize the heap with the first row from each file\n",
    "    for i, file_handle in enumerate(file_handles):\n",
    "        row = pd.read_excel(file_handle, nrows=1, header=None)\n",
    "        heapq.heappush(min_heap, (row.iloc[0, dim], i, row))\n",
    "        file_handle.seek(1, os.SEEK_CUR)\n",
    "\n",
    "    # while the heap is not empty\n",
    "    while len(min_heap) > 0:\n",
    "        value, file_index, row = heapq.heappop(min_heap)\n",
    "        # clear the first row of the original file\n",
    "        original_file.write(row.to_string(header=False, index=False))\n",
    "        original_file.write('\\n')\n",
    "        original_file.seek(1, os.SEEK_CUR)\n",
    "\n",
    "        dataCountLength = len(dataCount)\n",
    "        if dataCountLength == 0:\n",
    "            dataCount.append({\n",
    "                \"value\": value,\n",
    "                \"count\": 1\n",
    "            })\n",
    "        elif dataCount[dataCountLength - 1][\"value\"] == value:\n",
    "            dataCount[dataCountLength - 1][\"count\"] += 1\n",
    "        else:\n",
    "            dataCount.append({\n",
    "                \"value\": value,\n",
    "                \"count\": 1\n",
    "            })\n",
    "\n",
    "        # read the next row from the file of index file_index if it is not empty\n",
    "        row = pd.read_excel(file_handles[file_index], nrows=1, header=None)\n",
    "        if not row.empty:\n",
    "            heapq.heappush(min_heap, (row.iloc[0, dim], file_index, row))\n",
    "            file_handles[file_index].seek(1, os.SEEK_CUR)\n",
    "\n",
    "\n",
    "    # close all the files\n",
    "    for file_handle in file_handles:\n",
    "        file_handle.close()\n",
    "\n",
    "    original_file.close()\n",
    "\n",
    "    # delete all the temporary files\n",
    "    for tempFileName in tempFileNames:\n",
    "        os.remove(tempFileName)"
   ]
  },
  {
   "cell_type": "code",
   "execution_count": 198,
   "metadata": {},
   "outputs": [],
   "source": [
    "def BottomUpCube(input, dim, start_row, end_row, currentCombination, numDims, minSup):\n",
    "    global outputRec\n",
    "    for d in range(dim, numDims):\n",
    "        dataCount = {}\n",
    "        Partition(input, d, start_row, end_row, dataCount)\n",
    "\n",
    "        k = start_row\n",
    "        for value, c in dataCount.items():\n",
    "            if c >= minSup:\n",
    "                outputRec = pd.concat([pd.DataFrame(outputRec), pd.DataFrame([{\n",
    "                    \"Combination\": currentCombination + [value], \n",
    "                    \"Count\": c\n",
    "                    }])], ignore_index=True)\n",
    "\n",
    "                BottomUpCube(input, d + 1, k, k + c - 1, currentCombination + [value], numDims, minSup)\n",
    "\n",
    "            k += c    "
   ]
  },
  {
   "cell_type": "code",
   "execution_count": 199,
   "metadata": {},
   "outputs": [],
   "source": [
    "count = len(data)\n",
    "if count >= minSup:\n",
    "    outputRec = pd.concat([pd.DataFrame(outputRec), pd.DataFrame([{\"Combination\": [], \"Count\": count}])], ignore_index=True)"
   ]
  },
  {
   "cell_type": "code",
   "execution_count": 200,
   "metadata": {},
   "outputs": [],
   "source": [
    "fileName = \"../data/inputs/test.xlsx\""
   ]
  },
  {
   "cell_type": "code",
   "execution_count": 201,
   "metadata": {},
   "outputs": [
    {
     "name": "stdout",
     "output_type": "stream",
     "text": [
      "Page Index: -1\n",
      "1 0 2 3 1 1\n",
      "   A  B  C\n",
      "0  3  3  7\n",
      "Page Index: 0\n",
      "2 0 2 3 1 2\n",
      "   3  3.1  7\n",
      "0  3    3  7\n"
     ]
    },
    {
     "ename": "KeyError",
     "evalue": "'3'",
     "output_type": "error",
     "traceback": [
      "\u001b[0;31m---------------------------------------------------------------------------\u001b[0m",
      "\u001b[0;31mKeyError\u001b[0m                                  Traceback (most recent call last)",
      "\u001b[1;32m/home/karthikprasanna/Desktop/Data-Cube/src/cube paging implementation.ipynb Cell 11\u001b[0m line \u001b[0;36m1\n\u001b[0;32m----> <a href='vscode-notebook-cell:/home/karthikprasanna/Desktop/Data-Cube/src/cube%20paging%20implementation.ipynb#X11sZmlsZQ%3D%3D?line=0'>1</a>\u001b[0m BottomUpCube(fileName, \u001b[39m0\u001b[39;49m, \u001b[39m0\u001b[39;49m, \u001b[39mlen\u001b[39;49m(data) \u001b[39m-\u001b[39;49m \u001b[39m1\u001b[39;49m, [], numDims, minSup)\n",
      "\u001b[1;32m/home/karthikprasanna/Desktop/Data-Cube/src/cube paging implementation.ipynb Cell 11\u001b[0m line \u001b[0;36m5\n\u001b[1;32m      <a href='vscode-notebook-cell:/home/karthikprasanna/Desktop/Data-Cube/src/cube%20paging%20implementation.ipynb#X11sZmlsZQ%3D%3D?line=2'>3</a>\u001b[0m \u001b[39mfor\u001b[39;00m d \u001b[39min\u001b[39;00m \u001b[39mrange\u001b[39m(dim, numDims):\n\u001b[1;32m      <a href='vscode-notebook-cell:/home/karthikprasanna/Desktop/Data-Cube/src/cube%20paging%20implementation.ipynb#X11sZmlsZQ%3D%3D?line=3'>4</a>\u001b[0m     dataCount \u001b[39m=\u001b[39m {}\n\u001b[0;32m----> <a href='vscode-notebook-cell:/home/karthikprasanna/Desktop/Data-Cube/src/cube%20paging%20implementation.ipynb#X11sZmlsZQ%3D%3D?line=4'>5</a>\u001b[0m     Partition(\u001b[39minput\u001b[39;49m, d, start_row, end_row, dataCount)\n\u001b[1;32m      <a href='vscode-notebook-cell:/home/karthikprasanna/Desktop/Data-Cube/src/cube%20paging%20implementation.ipynb#X11sZmlsZQ%3D%3D?line=6'>7</a>\u001b[0m     k \u001b[39m=\u001b[39m start_row\n\u001b[1;32m      <a href='vscode-notebook-cell:/home/karthikprasanna/Desktop/Data-Cube/src/cube%20paging%20implementation.ipynb#X11sZmlsZQ%3D%3D?line=7'>8</a>\u001b[0m     \u001b[39mfor\u001b[39;00m value, c \u001b[39min\u001b[39;00m dataCount\u001b[39m.\u001b[39mitems():\n",
      "\u001b[1;32m/home/karthikprasanna/Desktop/Data-Cube/src/cube paging implementation.ipynb Cell 11\u001b[0m line \u001b[0;36m3\n\u001b[1;32m     <a href='vscode-notebook-cell:/home/karthikprasanna/Desktop/Data-Cube/src/cube%20paging%20implementation.ipynb#X11sZmlsZQ%3D%3D?line=28'>29</a>\u001b[0m \u001b[39mprint\u001b[39m(df)\n\u001b[1;32m     <a href='vscode-notebook-cell:/home/karthikprasanna/Desktop/Data-Cube/src/cube%20paging%20implementation.ipynb#X11sZmlsZQ%3D%3D?line=31'>32</a>\u001b[0m \u001b[39m# sort the file\u001b[39;00m\n\u001b[0;32m---> <a href='vscode-notebook-cell:/home/karthikprasanna/Desktop/Data-Cube/src/cube%20paging%20implementation.ipynb#X11sZmlsZQ%3D%3D?line=32'>33</a>\u001b[0m df \u001b[39m=\u001b[39m df\u001b[39m.\u001b[39;49msort_values(by\u001b[39m=\u001b[39;49m\u001b[39mstr\u001b[39;49m(df\u001b[39m.\u001b[39;49mcolumns[dim]))\n\u001b[1;32m     <a href='vscode-notebook-cell:/home/karthikprasanna/Desktop/Data-Cube/src/cube%20paging%20implementation.ipynb#X11sZmlsZQ%3D%3D?line=34'>35</a>\u001b[0m \u001b[39m# write the file\u001b[39;00m\n\u001b[1;32m     <a href='vscode-notebook-cell:/home/karthikprasanna/Desktop/Data-Cube/src/cube%20paging%20implementation.ipynb#X11sZmlsZQ%3D%3D?line=35'>36</a>\u001b[0m tempFileName \u001b[39m=\u001b[39m \u001b[39m\"\u001b[39m\u001b[39m../data/temporary/\u001b[39m\u001b[39m\"\u001b[39m \u001b[39m+\u001b[39m \u001b[39mstr\u001b[39m(pageIndex) \u001b[39m+\u001b[39m \u001b[39m\"\u001b[39m\u001b[39m.xlsx\u001b[39m\u001b[39m\"\u001b[39m\n",
      "File \u001b[0;32m~/.local/lib/python3.10/site-packages/pandas/util/_decorators.py:331\u001b[0m, in \u001b[0;36mdeprecate_nonkeyword_arguments.<locals>.decorate.<locals>.wrapper\u001b[0;34m(*args, **kwargs)\u001b[0m\n\u001b[1;32m    325\u001b[0m \u001b[39mif\u001b[39;00m \u001b[39mlen\u001b[39m(args) \u001b[39m>\u001b[39m num_allow_args:\n\u001b[1;32m    326\u001b[0m     warnings\u001b[39m.\u001b[39mwarn(\n\u001b[1;32m    327\u001b[0m         msg\u001b[39m.\u001b[39mformat(arguments\u001b[39m=\u001b[39m_format_argument_list(allow_args)),\n\u001b[1;32m    328\u001b[0m         \u001b[39mFutureWarning\u001b[39;00m,\n\u001b[1;32m    329\u001b[0m         stacklevel\u001b[39m=\u001b[39mfind_stack_level(),\n\u001b[1;32m    330\u001b[0m     )\n\u001b[0;32m--> 331\u001b[0m \u001b[39mreturn\u001b[39;00m func(\u001b[39m*\u001b[39;49margs, \u001b[39m*\u001b[39;49m\u001b[39m*\u001b[39;49mkwargs)\n",
      "File \u001b[0;32m~/.local/lib/python3.10/site-packages/pandas/core/frame.py:6912\u001b[0m, in \u001b[0;36mDataFrame.sort_values\u001b[0;34m(self, by, axis, ascending, inplace, kind, na_position, ignore_index, key)\u001b[0m\n\u001b[1;32m   6908\u001b[0m \u001b[39melif\u001b[39;00m \u001b[39mlen\u001b[39m(by):\n\u001b[1;32m   6909\u001b[0m     \u001b[39m# len(by) == 1\u001b[39;00m\n\u001b[1;32m   6911\u001b[0m     by \u001b[39m=\u001b[39m by[\u001b[39m0\u001b[39m]\n\u001b[0;32m-> 6912\u001b[0m     k \u001b[39m=\u001b[39m \u001b[39mself\u001b[39;49m\u001b[39m.\u001b[39;49m_get_label_or_level_values(by, axis\u001b[39m=\u001b[39;49maxis)\n\u001b[1;32m   6914\u001b[0m     \u001b[39m# need to rewrap column in Series to apply key function\u001b[39;00m\n\u001b[1;32m   6915\u001b[0m     \u001b[39mif\u001b[39;00m key \u001b[39mis\u001b[39;00m \u001b[39mnot\u001b[39;00m \u001b[39mNone\u001b[39;00m:\n\u001b[1;32m   6916\u001b[0m         \u001b[39m# error: Incompatible types in assignment (expression has type\u001b[39;00m\n\u001b[1;32m   6917\u001b[0m         \u001b[39m# \"Series\", variable has type \"ndarray\")\u001b[39;00m\n",
      "File \u001b[0;32m~/.local/lib/python3.10/site-packages/pandas/core/generic.py:1850\u001b[0m, in \u001b[0;36mNDFrame._get_label_or_level_values\u001b[0;34m(self, key, axis)\u001b[0m\n\u001b[1;32m   1844\u001b[0m     values \u001b[39m=\u001b[39m (\n\u001b[1;32m   1845\u001b[0m         \u001b[39mself\u001b[39m\u001b[39m.\u001b[39maxes[axis]\n\u001b[1;32m   1846\u001b[0m         \u001b[39m.\u001b[39mget_level_values(key)  \u001b[39m# type: ignore[assignment]\u001b[39;00m\n\u001b[1;32m   1847\u001b[0m         \u001b[39m.\u001b[39m_values\n\u001b[1;32m   1848\u001b[0m     )\n\u001b[1;32m   1849\u001b[0m \u001b[39melse\u001b[39;00m:\n\u001b[0;32m-> 1850\u001b[0m     \u001b[39mraise\u001b[39;00m \u001b[39mKeyError\u001b[39;00m(key)\n\u001b[1;32m   1852\u001b[0m \u001b[39m# Check for duplicates\u001b[39;00m\n\u001b[1;32m   1853\u001b[0m \u001b[39mif\u001b[39;00m values\u001b[39m.\u001b[39mndim \u001b[39m>\u001b[39m \u001b[39m1\u001b[39m:\n",
      "\u001b[0;31mKeyError\u001b[0m: '3'"
     ]
    }
   ],
   "source": [
    "BottomUpCube(fileName, 0, 0, len(data) - 1, [], numDims, minSup)"
   ]
  },
  {
   "cell_type": "code",
   "execution_count": null,
   "metadata": {},
   "outputs": [
    {
     "name": "stdout",
     "output_type": "stream",
     "text": [
      "  Combination  Count\n",
      "0          []    3.0\n"
     ]
    }
   ],
   "source": [
    "print(outputRec)"
   ]
  },
  {
   "cell_type": "code",
   "execution_count": null,
   "metadata": {},
   "outputs": [
    {
     "data": {
      "text/html": [
       "<div>\n",
       "<style scoped>\n",
       "    .dataframe tbody tr th:only-of-type {\n",
       "        vertical-align: middle;\n",
       "    }\n",
       "\n",
       "    .dataframe tbody tr th {\n",
       "        vertical-align: top;\n",
       "    }\n",
       "\n",
       "    .dataframe thead th {\n",
       "        text-align: right;\n",
       "    }\n",
       "</style>\n",
       "<table border=\"1\" class=\"dataframe\">\n",
       "  <thead>\n",
       "    <tr style=\"text-align: right;\">\n",
       "      <th></th>\n",
       "      <th>A</th>\n",
       "      <th>B</th>\n",
       "      <th>C</th>\n",
       "    </tr>\n",
       "  </thead>\n",
       "  <tbody>\n",
       "    <tr>\n",
       "      <th>0</th>\n",
       "      <td>3</td>\n",
       "      <td>3</td>\n",
       "      <td>7</td>\n",
       "    </tr>\n",
       "    <tr>\n",
       "      <th>1</th>\n",
       "      <td>3</td>\n",
       "      <td>3</td>\n",
       "      <td>7</td>\n",
       "    </tr>\n",
       "    <tr>\n",
       "      <th>2</th>\n",
       "      <td>2</td>\n",
       "      <td>4</td>\n",
       "      <td>7</td>\n",
       "    </tr>\n",
       "  </tbody>\n",
       "</table>\n",
       "</div>"
      ],
      "text/plain": [
       "   A  B  C\n",
       "0  3  3  7\n",
       "1  3  3  7\n",
       "2  2  4  7"
      ]
     },
     "execution_count": 135,
     "metadata": {},
     "output_type": "execute_result"
    }
   ],
   "source": [
    "data.head()"
   ]
  }
 ],
 "metadata": {
  "kernelspec": {
   "display_name": "Python 3",
   "language": "python",
   "name": "python3"
  },
  "language_info": {
   "codemirror_mode": {
    "name": "ipython",
    "version": 3
   },
   "file_extension": ".py",
   "mimetype": "text/x-python",
   "name": "python",
   "nbconvert_exporter": "python",
   "pygments_lexer": "ipython3",
   "version": "3.10.10"
  },
  "orig_nbformat": 4
 },
 "nbformat": 4,
 "nbformat_minor": 2
}
