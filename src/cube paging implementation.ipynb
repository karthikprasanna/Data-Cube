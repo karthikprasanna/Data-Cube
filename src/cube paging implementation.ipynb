{
 "cells": [
  {
   "cell_type": "code",
   "execution_count": 620,
   "metadata": {},
   "outputs": [],
   "source": [
    "import pandas as pd\n",
    "import numpy as np\n",
    "\n",
    "# data = pd.read_excel('../data/master.xlsx')\n",
    "# data = pd.read_excel('../data/master.xlsx').sample(1000)\n",
    "data = {'A': [3, 3, 2], 'B': [3, 3, 4], 'C': [7, 7, 7]}\n",
    "data = pd.DataFrame(data)\n",
    "\n",
    "minSup = 1\n",
    "numDims = len(data.columns)\n",
    "outputRec = pd.DataFrame({\n",
    "    \"Combination\": [],\n",
    "    \"Count\": []\n",
    "})\n"
   ]
  },
  {
   "cell_type": "code",
   "execution_count": 621,
   "metadata": {},
   "outputs": [
    {
     "data": {
      "text/plain": [
       "Index(['A', 'B', 'C'], dtype='object')"
      ]
     },
     "execution_count": 621,
     "metadata": {},
     "output_type": "execute_result"
    }
   ],
   "source": [
    "data.columns"
   ]
  },
  {
   "cell_type": "code",
   "execution_count": 622,
   "metadata": {},
   "outputs": [
    {
     "data": {
      "text/html": [
       "<div>\n",
       "<style scoped>\n",
       "    .dataframe tbody tr th:only-of-type {\n",
       "        vertical-align: middle;\n",
       "    }\n",
       "\n",
       "    .dataframe tbody tr th {\n",
       "        vertical-align: top;\n",
       "    }\n",
       "\n",
       "    .dataframe thead th {\n",
       "        text-align: right;\n",
       "    }\n",
       "</style>\n",
       "<table border=\"1\" class=\"dataframe\">\n",
       "  <thead>\n",
       "    <tr style=\"text-align: right;\">\n",
       "      <th></th>\n",
       "      <th>A</th>\n",
       "      <th>B</th>\n",
       "      <th>C</th>\n",
       "    </tr>\n",
       "  </thead>\n",
       "  <tbody>\n",
       "    <tr>\n",
       "      <th>0</th>\n",
       "      <td>3</td>\n",
       "      <td>3</td>\n",
       "      <td>7</td>\n",
       "    </tr>\n",
       "    <tr>\n",
       "      <th>1</th>\n",
       "      <td>3</td>\n",
       "      <td>3</td>\n",
       "      <td>7</td>\n",
       "    </tr>\n",
       "    <tr>\n",
       "      <th>2</th>\n",
       "      <td>2</td>\n",
       "      <td>4</td>\n",
       "      <td>7</td>\n",
       "    </tr>\n",
       "  </tbody>\n",
       "</table>\n",
       "</div>"
      ],
      "text/plain": [
       "   A  B  C\n",
       "0  3  3  7\n",
       "1  3  3  7\n",
       "2  2  4  7"
      ]
     },
     "execution_count": 622,
     "metadata": {},
     "output_type": "execute_result"
    }
   ],
   "source": [
    "data.head()"
   ]
  },
  {
   "cell_type": "code",
   "execution_count": 623,
   "metadata": {},
   "outputs": [],
   "source": [
    "# unique_counts = data.nunique()\n",
    "# col_dict = dict(zip(unique_counts.index, unique_counts.values))\n",
    "# sorted_cols = sorted(col_dict, key=col_dict.get, reverse=True)\n",
    "# data = data[sorted_cols]"
   ]
  },
  {
   "cell_type": "code",
   "execution_count": 624,
   "metadata": {},
   "outputs": [
    {
     "data": {
      "text/html": [
       "<div>\n",
       "<style scoped>\n",
       "    .dataframe tbody tr th:only-of-type {\n",
       "        vertical-align: middle;\n",
       "    }\n",
       "\n",
       "    .dataframe tbody tr th {\n",
       "        vertical-align: top;\n",
       "    }\n",
       "\n",
       "    .dataframe thead th {\n",
       "        text-align: right;\n",
       "    }\n",
       "</style>\n",
       "<table border=\"1\" class=\"dataframe\">\n",
       "  <thead>\n",
       "    <tr style=\"text-align: right;\">\n",
       "      <th></th>\n",
       "      <th>A</th>\n",
       "      <th>B</th>\n",
       "      <th>C</th>\n",
       "    </tr>\n",
       "  </thead>\n",
       "  <tbody>\n",
       "    <tr>\n",
       "      <th>0</th>\n",
       "      <td>3</td>\n",
       "      <td>3</td>\n",
       "      <td>7</td>\n",
       "    </tr>\n",
       "    <tr>\n",
       "      <th>1</th>\n",
       "      <td>3</td>\n",
       "      <td>3</td>\n",
       "      <td>7</td>\n",
       "    </tr>\n",
       "    <tr>\n",
       "      <th>2</th>\n",
       "      <td>2</td>\n",
       "      <td>4</td>\n",
       "      <td>7</td>\n",
       "    </tr>\n",
       "  </tbody>\n",
       "</table>\n",
       "</div>"
      ],
      "text/plain": [
       "   A  B  C\n",
       "0  3  3  7\n",
       "1  3  3  7\n",
       "2  2  4  7"
      ]
     },
     "execution_count": 624,
     "metadata": {},
     "output_type": "execute_result"
    }
   ],
   "source": [
    "data.head()"
   ]
  },
  {
   "cell_type": "code",
   "execution_count": 625,
   "metadata": {},
   "outputs": [],
   "source": [
    "# def Partition(input_df, dim, start_row, end_row, dataCount):\n",
    "#     subset_df = input_df.iloc[start_row:end_row + 1, :]\n",
    "#     sorted_df = subset_df.sort_values(by=input_df.columns[dim])\n",
    "#     input_df.iloc[start_row:end_row + 1, :] = sorted_df.values\n",
    "#     counts = sorted_df.iloc[:, dim].value_counts().sort_index().tolist()\n",
    "#     dataCount.extend(counts)\n"
   ]
  },
  {
   "cell_type": "code",
   "execution_count": 626,
   "metadata": {},
   "outputs": [],
   "source": [
    "import heapq\n",
    "import os\n",
    "import openpyxl\n",
    "\n",
    "def Partition(file_name, dim, start_row, end_row, dataCount):\n",
    "    workbook = openpyxl.load_workbook(file_name)\n",
    "    worksheet = workbook.active\n",
    "    tempFileNames = []\n",
    "\n",
    "    line_number = 0\n",
    "    pageSize = 2\n",
    "    pageIndex = 0\n",
    "    df = pd.DataFrame()\n",
    "    for row in worksheet.iter_rows(min_row=start_row+2, max_row=end_row+2, values_only=True):\n",
    "        if line_number >= pageSize:\n",
    "            df.sort_values(by=df.columns[dim], inplace=True)\n",
    "            tempFileName = \"../data/temporary/\" + str(pageIndex) + \".xlsx\"\n",
    "            df.to_excel(tempFileName, index=False, header=False)\n",
    "            tempFileNames.append(tempFileName)\n",
    "            line_number = 0\n",
    "            pageIndex += 1\n",
    "            df = pd.DataFrame()\n",
    "\n",
    "        df = df.append(pd.DataFrame([row]), ignore_index=True)\n",
    "        line_number += 1\n",
    "\n",
    "    if line_number > 0:\n",
    "        print(df.columns[dim])\n",
    "        df.sort_values(by=df.columns[dim], inplace=True)\n",
    "        tempFileName = \"../data/temporary/\" + str(pageIndex) + \".xlsx\"\n",
    "        df.to_excel(tempFileName, index=False, header=False)\n",
    "        tempFileNames.append(tempFileName)\n",
    "        pageIndex += 1\n",
    "\n",
    "    print(\"done\")\n",
    "\n",
    "\n",
    "    min_heap = []\n",
    "\n",
    "    # Open all the temporary files\n",
    "    file_handles = [open(tempFileName, 'r') for tempFileName in tempFileNames]\n",
    "\n",
    "    # open  our original file\n",
    "    original_file = open(file_name, 'r+')\n",
    "\n",
    "    # go to the start row\n",
    "    original_file.seek(start_row)\n",
    "\n",
    "    # Initialize the heap with the first row from each file\n",
    "    for i, file_handle in enumerate(file_handles):\n",
    "        row = pd.read_excel(file_handle, nrows=1, header=None)\n",
    "        heapq.heappush(min_heap, (row.iloc[0, dim], i, row))\n",
    "        file_handle.seek(1, os.SEEK_CUR)\n",
    "\n",
    "    # while the heap is not empty\n",
    "    while len(min_heap) > 0:\n",
    "        value, file_index, row = heapq.heappop(min_heap)\n",
    "        # clear the first row of the original file\n",
    "        original_file.write(row.to_string(header=False, index=False))\n",
    "        original_file.write('\\n')\n",
    "        original_file.seek(1, os.SEEK_CUR)\n",
    "\n",
    "        dataCountLength = len(dataCount)\n",
    "        if dataCountLength == 0:\n",
    "            dataCount.append({\n",
    "                \"value\": value,\n",
    "                \"count\": 1\n",
    "            })\n",
    "        elif dataCount[dataCountLength - 1][\"value\"] == value:\n",
    "            dataCount[dataCountLength - 1][\"count\"] += 1\n",
    "        else:\n",
    "            dataCount.append({\n",
    "                \"value\": value,\n",
    "                \"count\": 1\n",
    "            })\n",
    "\n",
    "        # read the next row from the file of index file_index if it is not empty\n",
    "        row = pd.read_excel(file_handles[file_index], nrows=1, header=None)\n",
    "        if not row.empty:\n",
    "            heapq.heappush(min_heap, (row.iloc[0, dim], file_index, row))\n",
    "            file_handles[file_index].seek(1, os.SEEK_CUR)\n",
    "\n",
    "\n",
    "    # close all the files\n",
    "    for file_handle in file_handles:\n",
    "        file_handle.close()\n",
    "\n",
    "    original_file.close()\n",
    "\n",
    "    # delete all the temporary files\n",
    "    for tempFileName in tempFileNames:\n",
    "        os.remove(tempFileName)"
   ]
  },
  {
   "cell_type": "code",
   "execution_count": 627,
   "metadata": {},
   "outputs": [],
   "source": [
    "def BottomUpCube(input, dim, start_row, end_row, currentCombination, numDims, minSup):\n",
    "    global outputRec\n",
    "    for d in range(dim, numDims):\n",
    "        dataCount = {}\n",
    "        Partition(input, d, start_row, end_row, dataCount)\n",
    "\n",
    "        k = start_row\n",
    "        for value, c in dataCount.items():\n",
    "            if c >= minSup:\n",
    "                outputRec = pd.concat([pd.DataFrame(outputRec), pd.DataFrame([{\n",
    "                    \"Combination\": currentCombination + [value], \n",
    "                    \"Count\": c\n",
    "                    }])], ignore_index=True)\n",
    "\n",
    "                BottomUpCube(input, d + 1, k, k + c - 1, currentCombination + [value], numDims, minSup)\n",
    "\n",
    "            k += c    "
   ]
  },
  {
   "cell_type": "code",
   "execution_count": 628,
   "metadata": {},
   "outputs": [],
   "source": [
    "count = len(data)\n",
    "if count >= minSup:\n",
    "    outputRec = pd.concat([pd.DataFrame(outputRec), pd.DataFrame([{\"Combination\": [], \"Count\": count}])], ignore_index=True)"
   ]
  },
  {
   "cell_type": "code",
   "execution_count": 629,
   "metadata": {},
   "outputs": [],
   "source": [
    "fileName = \"../data/inputs/test.xlsx\""
   ]
  },
  {
   "cell_type": "code",
   "execution_count": 630,
   "metadata": {},
   "outputs": [
    {
     "name": "stdout",
     "output_type": "stream",
     "text": [
      "0\n",
      "done\n"
     ]
    },
    {
     "name": "stderr",
     "output_type": "stream",
     "text": [
      "/tmp/ipykernel_8664/29817220.py:24: FutureWarning: The frame.append method is deprecated and will be removed from pandas in a future version. Use pandas.concat instead.\n",
      "  df = df.append(pd.DataFrame([row]), ignore_index=True)\n",
      "/tmp/ipykernel_8664/29817220.py:24: FutureWarning: The frame.append method is deprecated and will be removed from pandas in a future version. Use pandas.concat instead.\n",
      "  df = df.append(pd.DataFrame([row]), ignore_index=True)\n"
     ]
    },
    {
     "ename": "UnicodeDecodeError",
     "evalue": "'utf-8' codec can't decode byte 0xc1 in position 16: invalid start byte",
     "output_type": "error",
     "traceback": [
      "\u001b[0;31m---------------------------------------------------------------------------\u001b[0m",
      "\u001b[0;31mUnicodeDecodeError\u001b[0m                        Traceback (most recent call last)",
      "\u001b[1;32m/home/karthikprasanna/Desktop/Data-Cube/src/cube paging implementation.ipynb Cell 11\u001b[0m line \u001b[0;36m1\n\u001b[0;32m----> <a href='vscode-notebook-cell:/home/karthikprasanna/Desktop/Data-Cube/src/cube%20paging%20implementation.ipynb#X11sZmlsZQ%3D%3D?line=0'>1</a>\u001b[0m BottomUpCube(fileName, \u001b[39m0\u001b[39;49m, \u001b[39m0\u001b[39;49m, \u001b[39m3\u001b[39;49m, [], numDims, minSup)\n",
      "\u001b[1;32m/home/karthikprasanna/Desktop/Data-Cube/src/cube paging implementation.ipynb Cell 11\u001b[0m line \u001b[0;36m5\n\u001b[1;32m      <a href='vscode-notebook-cell:/home/karthikprasanna/Desktop/Data-Cube/src/cube%20paging%20implementation.ipynb#X11sZmlsZQ%3D%3D?line=2'>3</a>\u001b[0m \u001b[39mfor\u001b[39;00m d \u001b[39min\u001b[39;00m \u001b[39mrange\u001b[39m(dim, numDims):\n\u001b[1;32m      <a href='vscode-notebook-cell:/home/karthikprasanna/Desktop/Data-Cube/src/cube%20paging%20implementation.ipynb#X11sZmlsZQ%3D%3D?line=3'>4</a>\u001b[0m     dataCount \u001b[39m=\u001b[39m {}\n\u001b[0;32m----> <a href='vscode-notebook-cell:/home/karthikprasanna/Desktop/Data-Cube/src/cube%20paging%20implementation.ipynb#X11sZmlsZQ%3D%3D?line=4'>5</a>\u001b[0m     Partition(\u001b[39minput\u001b[39;49m, d, start_row, end_row, dataCount)\n\u001b[1;32m      <a href='vscode-notebook-cell:/home/karthikprasanna/Desktop/Data-Cube/src/cube%20paging%20implementation.ipynb#X11sZmlsZQ%3D%3D?line=6'>7</a>\u001b[0m     k \u001b[39m=\u001b[39m start_row\n\u001b[1;32m      <a href='vscode-notebook-cell:/home/karthikprasanna/Desktop/Data-Cube/src/cube%20paging%20implementation.ipynb#X11sZmlsZQ%3D%3D?line=7'>8</a>\u001b[0m     \u001b[39mfor\u001b[39;00m value, c \u001b[39min\u001b[39;00m dataCount\u001b[39m.\u001b[39mitems():\n",
      "\u001b[1;32m/home/karthikprasanna/Desktop/Data-Cube/src/cube paging implementation.ipynb Cell 11\u001b[0m line \u001b[0;36m5\n\u001b[1;32m     <a href='vscode-notebook-cell:/home/karthikprasanna/Desktop/Data-Cube/src/cube%20paging%20implementation.ipynb#X11sZmlsZQ%3D%3D?line=48'>49</a>\u001b[0m \u001b[39m# Initialize the heap with the first row from each file\u001b[39;00m\n\u001b[1;32m     <a href='vscode-notebook-cell:/home/karthikprasanna/Desktop/Data-Cube/src/cube%20paging%20implementation.ipynb#X11sZmlsZQ%3D%3D?line=49'>50</a>\u001b[0m \u001b[39mfor\u001b[39;00m i, file_handle \u001b[39min\u001b[39;00m \u001b[39menumerate\u001b[39m(file_handles):\n\u001b[0;32m---> <a href='vscode-notebook-cell:/home/karthikprasanna/Desktop/Data-Cube/src/cube%20paging%20implementation.ipynb#X11sZmlsZQ%3D%3D?line=50'>51</a>\u001b[0m     row \u001b[39m=\u001b[39m pd\u001b[39m.\u001b[39;49mread_excel(file_handle, nrows\u001b[39m=\u001b[39;49m\u001b[39m1\u001b[39;49m, header\u001b[39m=\u001b[39;49m\u001b[39mNone\u001b[39;49;00m)\n\u001b[1;32m     <a href='vscode-notebook-cell:/home/karthikprasanna/Desktop/Data-Cube/src/cube%20paging%20implementation.ipynb#X11sZmlsZQ%3D%3D?line=51'>52</a>\u001b[0m     heapq\u001b[39m.\u001b[39mheappush(min_heap, (row\u001b[39m.\u001b[39miloc[\u001b[39m0\u001b[39m, dim], i, row))\n\u001b[1;32m     <a href='vscode-notebook-cell:/home/karthikprasanna/Desktop/Data-Cube/src/cube%20paging%20implementation.ipynb#X11sZmlsZQ%3D%3D?line=52'>53</a>\u001b[0m     file_handle\u001b[39m.\u001b[39mseek(\u001b[39m1\u001b[39m, os\u001b[39m.\u001b[39mSEEK_CUR)\n",
      "File \u001b[0;32m~/.local/lib/python3.10/site-packages/pandas/util/_decorators.py:211\u001b[0m, in \u001b[0;36mdeprecate_kwarg.<locals>._deprecate_kwarg.<locals>.wrapper\u001b[0;34m(*args, **kwargs)\u001b[0m\n\u001b[1;32m    209\u001b[0m     \u001b[39melse\u001b[39;00m:\n\u001b[1;32m    210\u001b[0m         kwargs[new_arg_name] \u001b[39m=\u001b[39m new_arg_value\n\u001b[0;32m--> 211\u001b[0m \u001b[39mreturn\u001b[39;00m func(\u001b[39m*\u001b[39;49margs, \u001b[39m*\u001b[39;49m\u001b[39m*\u001b[39;49mkwargs)\n",
      "File \u001b[0;32m~/.local/lib/python3.10/site-packages/pandas/util/_decorators.py:331\u001b[0m, in \u001b[0;36mdeprecate_nonkeyword_arguments.<locals>.decorate.<locals>.wrapper\u001b[0;34m(*args, **kwargs)\u001b[0m\n\u001b[1;32m    325\u001b[0m \u001b[39mif\u001b[39;00m \u001b[39mlen\u001b[39m(args) \u001b[39m>\u001b[39m num_allow_args:\n\u001b[1;32m    326\u001b[0m     warnings\u001b[39m.\u001b[39mwarn(\n\u001b[1;32m    327\u001b[0m         msg\u001b[39m.\u001b[39mformat(arguments\u001b[39m=\u001b[39m_format_argument_list(allow_args)),\n\u001b[1;32m    328\u001b[0m         \u001b[39mFutureWarning\u001b[39;00m,\n\u001b[1;32m    329\u001b[0m         stacklevel\u001b[39m=\u001b[39mfind_stack_level(),\n\u001b[1;32m    330\u001b[0m     )\n\u001b[0;32m--> 331\u001b[0m \u001b[39mreturn\u001b[39;00m func(\u001b[39m*\u001b[39;49margs, \u001b[39m*\u001b[39;49m\u001b[39m*\u001b[39;49mkwargs)\n",
      "File \u001b[0;32m~/.local/lib/python3.10/site-packages/pandas/io/excel/_base.py:482\u001b[0m, in \u001b[0;36mread_excel\u001b[0;34m(io, sheet_name, header, names, index_col, usecols, squeeze, dtype, engine, converters, true_values, false_values, skiprows, nrows, na_values, keep_default_na, na_filter, verbose, parse_dates, date_parser, thousands, decimal, comment, skipfooter, convert_float, mangle_dupe_cols, storage_options)\u001b[0m\n\u001b[1;32m    480\u001b[0m \u001b[39mif\u001b[39;00m \u001b[39mnot\u001b[39;00m \u001b[39misinstance\u001b[39m(io, ExcelFile):\n\u001b[1;32m    481\u001b[0m     should_close \u001b[39m=\u001b[39m \u001b[39mTrue\u001b[39;00m\n\u001b[0;32m--> 482\u001b[0m     io \u001b[39m=\u001b[39m ExcelFile(io, storage_options\u001b[39m=\u001b[39;49mstorage_options, engine\u001b[39m=\u001b[39;49mengine)\n\u001b[1;32m    483\u001b[0m \u001b[39melif\u001b[39;00m engine \u001b[39mand\u001b[39;00m engine \u001b[39m!=\u001b[39m io\u001b[39m.\u001b[39mengine:\n\u001b[1;32m    484\u001b[0m     \u001b[39mraise\u001b[39;00m \u001b[39mValueError\u001b[39;00m(\n\u001b[1;32m    485\u001b[0m         \u001b[39m\"\u001b[39m\u001b[39mEngine should not be specified when passing \u001b[39m\u001b[39m\"\u001b[39m\n\u001b[1;32m    486\u001b[0m         \u001b[39m\"\u001b[39m\u001b[39man ExcelFile - ExcelFile already has the engine set\u001b[39m\u001b[39m\"\u001b[39m\n\u001b[1;32m    487\u001b[0m     )\n",
      "File \u001b[0;32m~/.local/lib/python3.10/site-packages/pandas/io/excel/_base.py:1652\u001b[0m, in \u001b[0;36mExcelFile.__init__\u001b[0;34m(self, path_or_buffer, engine, storage_options)\u001b[0m\n\u001b[1;32m   1650\u001b[0m     ext \u001b[39m=\u001b[39m \u001b[39m\"\u001b[39m\u001b[39mxls\u001b[39m\u001b[39m\"\u001b[39m\n\u001b[1;32m   1651\u001b[0m \u001b[39melse\u001b[39;00m:\n\u001b[0;32m-> 1652\u001b[0m     ext \u001b[39m=\u001b[39m inspect_excel_format(\n\u001b[1;32m   1653\u001b[0m         content_or_path\u001b[39m=\u001b[39;49mpath_or_buffer, storage_options\u001b[39m=\u001b[39;49mstorage_options\n\u001b[1;32m   1654\u001b[0m     )\n\u001b[1;32m   1655\u001b[0m     \u001b[39mif\u001b[39;00m ext \u001b[39mis\u001b[39;00m \u001b[39mNone\u001b[39;00m:\n\u001b[1;32m   1656\u001b[0m         \u001b[39mraise\u001b[39;00m \u001b[39mValueError\u001b[39;00m(\n\u001b[1;32m   1657\u001b[0m             \u001b[39m\"\u001b[39m\u001b[39mExcel file format cannot be determined, you must specify \u001b[39m\u001b[39m\"\u001b[39m\n\u001b[1;32m   1658\u001b[0m             \u001b[39m\"\u001b[39m\u001b[39man engine manually.\u001b[39m\u001b[39m\"\u001b[39m\n\u001b[1;32m   1659\u001b[0m         )\n",
      "File \u001b[0;32m~/.local/lib/python3.10/site-packages/pandas/io/excel/_base.py:1530\u001b[0m, in \u001b[0;36minspect_excel_format\u001b[0;34m(content_or_path, storage_options)\u001b[0m\n\u001b[1;32m   1528\u001b[0m stream \u001b[39m=\u001b[39m handle\u001b[39m.\u001b[39mhandle\n\u001b[1;32m   1529\u001b[0m stream\u001b[39m.\u001b[39mseek(\u001b[39m0\u001b[39m)\n\u001b[0;32m-> 1530\u001b[0m buf \u001b[39m=\u001b[39m stream\u001b[39m.\u001b[39;49mread(PEEK_SIZE)\n\u001b[1;32m   1531\u001b[0m \u001b[39mif\u001b[39;00m buf \u001b[39mis\u001b[39;00m \u001b[39mNone\u001b[39;00m:\n\u001b[1;32m   1532\u001b[0m     \u001b[39mraise\u001b[39;00m \u001b[39mValueError\u001b[39;00m(\u001b[39m\"\u001b[39m\u001b[39mstream is empty\u001b[39m\u001b[39m\"\u001b[39m)\n",
      "File \u001b[0;32m~/.local/lib/python3.10/site-packages/pandas/io/common.py:1090\u001b[0m, in \u001b[0;36m_BytesIOWrapper.read\u001b[0;34m(self, n)\u001b[0m\n\u001b[1;32m   1088\u001b[0m \u001b[39mdef\u001b[39;00m \u001b[39mread\u001b[39m(\u001b[39mself\u001b[39m, n: \u001b[39mint\u001b[39m \u001b[39m|\u001b[39m \u001b[39mNone\u001b[39;00m \u001b[39m=\u001b[39m \u001b[39m-\u001b[39m\u001b[39m1\u001b[39m) \u001b[39m-\u001b[39m\u001b[39m>\u001b[39m \u001b[39mbytes\u001b[39m:\n\u001b[1;32m   1089\u001b[0m     \u001b[39massert\u001b[39;00m \u001b[39mself\u001b[39m\u001b[39m.\u001b[39mbuffer \u001b[39mis\u001b[39;00m \u001b[39mnot\u001b[39;00m \u001b[39mNone\u001b[39;00m\n\u001b[0;32m-> 1090\u001b[0m     bytestring \u001b[39m=\u001b[39m \u001b[39mself\u001b[39;49m\u001b[39m.\u001b[39;49mbuffer\u001b[39m.\u001b[39;49mread(n)\u001b[39m.\u001b[39mencode(\u001b[39mself\u001b[39m\u001b[39m.\u001b[39mencoding)\n\u001b[1;32m   1091\u001b[0m     \u001b[39m# When n=-1/n greater than remaining bytes: Read entire file/rest of file\u001b[39;00m\n\u001b[1;32m   1092\u001b[0m     combined_bytestring \u001b[39m=\u001b[39m \u001b[39mself\u001b[39m\u001b[39m.\u001b[39moverflow \u001b[39m+\u001b[39m bytestring\n",
      "File \u001b[0;32m~/miniconda3/lib/python3.10/codecs.py:322\u001b[0m, in \u001b[0;36mBufferedIncrementalDecoder.decode\u001b[0;34m(self, input, final)\u001b[0m\n\u001b[1;32m    319\u001b[0m \u001b[39mdef\u001b[39;00m \u001b[39mdecode\u001b[39m(\u001b[39mself\u001b[39m, \u001b[39minput\u001b[39m, final\u001b[39m=\u001b[39m\u001b[39mFalse\u001b[39;00m):\n\u001b[1;32m    320\u001b[0m     \u001b[39m# decode input (taking the buffer into account)\u001b[39;00m\n\u001b[1;32m    321\u001b[0m     data \u001b[39m=\u001b[39m \u001b[39mself\u001b[39m\u001b[39m.\u001b[39mbuffer \u001b[39m+\u001b[39m \u001b[39minput\u001b[39m\n\u001b[0;32m--> 322\u001b[0m     (result, consumed) \u001b[39m=\u001b[39m \u001b[39mself\u001b[39;49m\u001b[39m.\u001b[39;49m_buffer_decode(data, \u001b[39mself\u001b[39;49m\u001b[39m.\u001b[39;49merrors, final)\n\u001b[1;32m    323\u001b[0m     \u001b[39m# keep undecoded input until the next call\u001b[39;00m\n\u001b[1;32m    324\u001b[0m     \u001b[39mself\u001b[39m\u001b[39m.\u001b[39mbuffer \u001b[39m=\u001b[39m data[consumed:]\n",
      "\u001b[0;31mUnicodeDecodeError\u001b[0m: 'utf-8' codec can't decode byte 0xc1 in position 16: invalid start byte"
     ]
    }
   ],
   "source": [
    "BottomUpCube(fileName, 0, 0, 3, [], numDims, minSup)"
   ]
  },
  {
   "cell_type": "code",
   "execution_count": null,
   "metadata": {},
   "outputs": [
    {
     "name": "stdout",
     "output_type": "stream",
     "text": [
      "  Combination  Count\n",
      "0          []    3.0\n"
     ]
    }
   ],
   "source": [
    "print(outputRec)"
   ]
  },
  {
   "cell_type": "code",
   "execution_count": null,
   "metadata": {},
   "outputs": [
    {
     "data": {
      "text/html": [
       "<div>\n",
       "<style scoped>\n",
       "    .dataframe tbody tr th:only-of-type {\n",
       "        vertical-align: middle;\n",
       "    }\n",
       "\n",
       "    .dataframe tbody tr th {\n",
       "        vertical-align: top;\n",
       "    }\n",
       "\n",
       "    .dataframe thead th {\n",
       "        text-align: right;\n",
       "    }\n",
       "</style>\n",
       "<table border=\"1\" class=\"dataframe\">\n",
       "  <thead>\n",
       "    <tr style=\"text-align: right;\">\n",
       "      <th></th>\n",
       "      <th>A</th>\n",
       "      <th>B</th>\n",
       "      <th>C</th>\n",
       "    </tr>\n",
       "  </thead>\n",
       "  <tbody>\n",
       "    <tr>\n",
       "      <th>0</th>\n",
       "      <td>3</td>\n",
       "      <td>3</td>\n",
       "      <td>7</td>\n",
       "    </tr>\n",
       "    <tr>\n",
       "      <th>1</th>\n",
       "      <td>3</td>\n",
       "      <td>3</td>\n",
       "      <td>7</td>\n",
       "    </tr>\n",
       "    <tr>\n",
       "      <th>2</th>\n",
       "      <td>2</td>\n",
       "      <td>4</td>\n",
       "      <td>7</td>\n",
       "    </tr>\n",
       "  </tbody>\n",
       "</table>\n",
       "</div>"
      ],
      "text/plain": [
       "   A  B  C\n",
       "0  3  3  7\n",
       "1  3  3  7\n",
       "2  2  4  7"
      ]
     },
     "execution_count": 135,
     "metadata": {},
     "output_type": "execute_result"
    }
   ],
   "source": [
    "data.head()"
   ]
  }
 ],
 "metadata": {
  "kernelspec": {
   "display_name": "Python 3",
   "language": "python",
   "name": "python3"
  },
  "language_info": {
   "codemirror_mode": {
    "name": "ipython",
    "version": 3
   },
   "file_extension": ".py",
   "mimetype": "text/x-python",
   "name": "python",
   "nbconvert_exporter": "python",
   "pygments_lexer": "ipython3",
   "version": "3.10.10"
  },
  "orig_nbformat": 4
 },
 "nbformat": 4,
 "nbformat_minor": 2
}
