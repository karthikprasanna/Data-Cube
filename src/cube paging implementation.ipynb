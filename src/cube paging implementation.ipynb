{
 "cells": [
  {
   "cell_type": "code",
   "execution_count": 1156,
   "metadata": {},
   "outputs": [],
   "source": [
    "import pandas as pd\n",
    "import numpy as np\n",
    "\n",
    "outputRec = pd.DataFrame({\n",
    "    \"Combination\": [],\n",
    "    \"Count\": []\n",
    "})\n"
   ]
  },
  {
   "cell_type": "code",
   "execution_count": 1157,
   "metadata": {},
   "outputs": [],
   "source": [
    "import heapq\n",
    "import os\n",
    "import openpyxl\n",
    "\n",
    "def Partition(file_name, dim, start_row, end_row, dataCount, pageSize):\n",
    "    workbook = openpyxl.load_workbook(file_name)\n",
    "    worksheet = workbook.active\n",
    "    tempFileNames = []\n",
    "\n",
    "    line_number = 0\n",
    "    pageIndex = 0\n",
    "    df = pd.DataFrame()\n",
    "    for row in worksheet.iter_rows(min_row=start_row+2, max_row=end_row+2, values_only=True):\n",
    "        if line_number >= pageSize:\n",
    "            df.sort_values(by=df.columns[dim], inplace=True)\n",
    "            tempFileName = \"../data/temporary/\" + str(pageIndex) + \".xlsx\"\n",
    "            df.to_excel(tempFileName, index=False, header=False)\n",
    "            tempFileNames.append(tempFileName)\n",
    "            line_number = 0\n",
    "            pageIndex += 1\n",
    "            df = pd.DataFrame()\n",
    "\n",
    "        df = pd.concat([df, pd.DataFrame([row])], ignore_index=True)\n",
    "        line_number += 1\n",
    "\n",
    "    if line_number > 0:\n",
    "        df.sort_values(by=df.columns[dim], inplace=True)\n",
    "        tempFileName = \"../data/temporary/\" + str(pageIndex) + \".xlsx\"\n",
    "        df.to_excel(tempFileName, index=False, header=False)\n",
    "        tempFileNames.append(tempFileName)\n",
    "        pageIndex += 1\n",
    "\n",
    "    min_heap = []\n",
    "\n",
    "    workbooks = [openpyxl.load_workbook(tempFileName) for tempFileName in tempFileNames]\n",
    "    file_handles = [workbook.active for workbook in workbooks]\n",
    "    iterators = [file.iter_rows(values_only=True) for file in file_handles]\n",
    "    current_row = start_row+2\n",
    "\n",
    "    # Push the <value, pageid, row> of the first row of each file_handle to the min heap\n",
    "    for i, iterator in enumerate(iterators):\n",
    "        first_row = next(iterator)\n",
    "        heapq.heappush(min_heap, (first_row[dim], i, first_row))\n",
    "\n",
    "    # While the heap is not empty\n",
    "    while len(min_heap) > 0:\n",
    "        value, file_index, row = heapq.heappop(min_heap)\n",
    "\n",
    "        for col_index, cell_value in enumerate(row):\n",
    "            worksheet.cell(row=current_row, column=col_index + 1, value=cell_value)\n",
    "\n",
    "        current_row += 1  \n",
    "    \n",
    "        dataCountLength = len(dataCount)\n",
    "        if dataCountLength == 0:\n",
    "            dataCount[value] = 1\n",
    "        elif value in dataCount:\n",
    "            dataCount[value] += 1\n",
    "        else:\n",
    "            dataCount[value] = 1\n",
    "\n",
    "        # Read the next row from the file of index page_index if it is not empty\n",
    "        try:\n",
    "            next_row = next(iterators[file_index])\n",
    "            heapq.heappush(min_heap, (next_row[dim], file_index, next_row))\n",
    "        except StopIteration:\n",
    "            # The file is empty, no more rows to read from it\n",
    "            continue\n",
    "\n",
    "    # Save the changes to the original workbook\n",
    "    workbook.save(file_name)\n",
    "\n",
    "    workbook.close()\n",
    "    for workbook in workbooks:\n",
    "        workbook.close()\n",
    "\n",
    "     # Delete all the temporary files\n",
    "    for tempFileName in tempFileNames:\n",
    "        os.remove(tempFileName)\n"
   ]
  },
  {
   "cell_type": "code",
   "execution_count": 1158,
   "metadata": {},
   "outputs": [],
   "source": [
    "def count_total_rows(file_name):\n",
    "    total_rows = 0\n",
    "    workbook = openpyxl.load_workbook(file_name, read_only=True)\n",
    "\n",
    "    # Iterate through each worksheet in the workbook\n",
    "    sheet = workbook.active\n",
    "\n",
    "    for row in sheet.iter_rows(values_only=True):\n",
    "        total_rows += 1\n",
    "        \n",
    "    # Close the workbook\n",
    "    workbook.close()\n",
    "\n",
    "    return total_rows - 1"
   ]
  },
  {
   "cell_type": "code",
   "execution_count": 1159,
   "metadata": {},
   "outputs": [],
   "source": [
    "def BottomUpCube(input, dim, start_row, end_row, currentCombination, numDims, minSup, pageSize):\n",
    "    global outputRec\n",
    "\n",
    "    if dim == 0:\n",
    "        count = count_total_rows(input)\n",
    "        if count >= minSup:\n",
    "            outputRec = pd.concat([pd.DataFrame(outputRec), pd.DataFrame([{\"Combination\": [], \"Count\": count}])], ignore_index=True)\n",
    "        \n",
    "    for d in range(dim, numDims):\n",
    "        dataCount = {}\n",
    "        Partition(input, d, start_row, end_row, dataCount, pageSize)\n",
    "\n",
    "        k = start_row\n",
    "        for value, c in dataCount.items():\n",
    "            if c >= minSup:\n",
    "                outputRec = pd.concat([pd.DataFrame(outputRec), pd.DataFrame([{\n",
    "                    \"Combination\": currentCombination + [value], \n",
    "                    \"Count\": c\n",
    "                    }])], ignore_index=True)\n",
    "\n",
    "                BottomUpCube(input, d + 1, k, k + c - 1, currentCombination + [value], numDims, minSup, pageSize)\n",
    "\n",
    "            k += c    "
   ]
  },
  {
   "cell_type": "code",
   "execution_count": 1160,
   "metadata": {},
   "outputs": [],
   "source": [
    "fileName = \"../data/inputs/test.xlsx\"\n",
    "workbook = openpyxl.load_workbook(fileName, read_only=True)\n",
    "sheet = workbook.active\n",
    "numDims = sheet.max_column\n",
    "workbook.close()\n",
    "\n",
    "pageSize = 1\n",
    "minSup = 1\n",
    "BottomUpCube(fileName, 0, 0, count_total_rows(fileName) - 1, [], numDims, minSup, pageSize)"
   ]
  },
  {
   "cell_type": "code",
   "execution_count": 1161,
   "metadata": {},
   "outputs": [
    {
     "name": "stdout",
     "output_type": "stream",
     "text": [
      "    Combination  Count\n",
      "0            []    4.0\n",
      "1           [2]    1.0\n",
      "2        [2, 3]    1.0\n",
      "3     [2, 3, 7]    1.0\n",
      "4        [2, 7]    1.0\n",
      "5           [9]    1.0\n",
      "6        [9, 6]    1.0\n",
      "7     [9, 6, 5]    1.0\n",
      "8        [9, 5]    1.0\n",
      "9          [11]    2.0\n",
      "10      [11, 3]    2.0\n",
      "11  [11, 3, -1]    1.0\n",
      "12   [11, 3, 3]    1.0\n",
      "13     [11, -1]    1.0\n",
      "14      [11, 3]    1.0\n",
      "15          [3]    3.0\n",
      "16      [3, -1]    1.0\n",
      "17       [3, 3]    1.0\n",
      "18       [3, 7]    1.0\n",
      "19          [6]    1.0\n",
      "20       [6, 5]    1.0\n",
      "21         [-1]    1.0\n",
      "22          [3]    1.0\n",
      "23          [5]    1.0\n",
      "24          [7]    1.0\n"
     ]
    }
   ],
   "source": [
    "print(outputRec)"
   ]
  },
  {
   "cell_type": "code",
   "execution_count": 1162,
   "metadata": {},
   "outputs": [
    {
     "name": "stdout",
     "output_type": "stream",
     "text": [
      "Progress:  25.0\n",
      "Progress:  50.0\n",
      "Progress:  75.0\n",
      "Progress:  100.0\n"
     ]
    },
    {
     "data": {
      "image/png": "[encoded data removed]",
      "text/plain": [
       "<Figure size 640x480 with 1 Axes>"
      ]
     },
     "metadata": {},
     "output_type": "display_data"
    }
   ],
   "source": [
    "# plot of minsup vs runtime\n",
    "import time\n",
    "import matplotlib.pyplot as plt\n",
    "minsup = 1\n",
    "pageSize = [1, 2, 3, 4]\n",
    "\n",
    "runtime = []\n",
    "\n",
    "for idx, s in enumerate(pageSize):\n",
    "    # calculate runtime of BottomUpCube\n",
    "    start_time = time.time()\n",
    "    BottomUpCube(fileName, 0, 0, count_total_rows(fileName) - 1, [], numDims, minsup, s)\n",
    "    runtime.append(time.time() - start_time)\n",
    "\n",
    "    # print progress\n",
    "    print('Progress: ', ((idx + 1)/len(pageSize))*100)\n",
    "    \n",
    "plt.plot(pageSize, runtime)\n",
    "plt.xlabel('Allotted Memory')\n",
    "plt.ylabel('runtime')\n",
    "plt.title('Alloted Memory vs runtime')\n",
    "\n",
    "# save\n",
    "plt.savefig('../data/outputs/alloted-memory-vs-runtime.png')\n",
    "\n",
    "plt.show()"
   ]
  }
 ],
 "metadata": {
  "kernelspec": {
   "display_name": "Python 3",
   "language": "python",
   "name": "python3"
  },
  "language_info": {
   "codemirror_mode": {
    "name": "ipython",
    "version": 3
   },
   "file_extension": ".py",
   "mimetype": "text/x-python",
   "name": "python",
   "nbconvert_exporter": "python",
   "pygments_lexer": "ipython3",
   "version": "3.10.10"
  },
  "orig_nbformat": 4
 },
 "nbformat": 4,
 "nbformat_minor": 2
}
