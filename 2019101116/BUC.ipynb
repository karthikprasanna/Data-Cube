{
  "cells": [
    {
      "cell_type": "code",
      "execution_count": null,
      "metadata": {
        "colab": {
          "base_uri": "https://localhost:8080/"
        },
        "id": "kqiyZ5oR68NN",
        "outputId": "6a80fea9-e8e5-4cd1-b2b5-08eb8b23444c"
      },
      "outputs": [
        {
          "output_type": "stream",
          "name": "stdout",
          "text": [
            "/content/drive/MyDrive\n"
          ]
        }
      ],
      "source": [
        "%cd /content/drive/MyDrive/"
      ]
    },
    {
      "cell_type": "code",
      "execution_count": null,
      "metadata": {
        "id": "hrNvEADZ8Igd"
      },
      "outputs": [],
      "source": [
        "file_name = \"./BUC/master.xlsx\""
      ]
    },
    {
      "cell_type": "code",
      "execution_count": null,
      "metadata": {
        "colab": {
          "base_uri": "https://localhost:8080/"
        },
        "id": "l_KJOtHh8Uoc",
        "outputId": "329380b5-0621-47c2-d338-1437be30889d"
      },
      "outputs": [
        {
          "output_type": "stream",
          "name": "stdout",
          "text": [
            "Looking in indexes: https://pypi.org/simple, https://us-python.pkg.dev/colab-wheels/public/simple/\n",
            "Collecting pandasql\n",
            "  Downloading pandasql-0.7.3.tar.gz (26 kB)\n",
            "Requirement already satisfied: numpy in /usr/local/lib/python3.7/dist-packages (from pandasql) (1.21.6)\n",
            "Requirement already satisfied: pandas in /usr/local/lib/python3.7/dist-packages (from pandasql) (1.3.5)\n",
            "Requirement already satisfied: sqlalchemy in /usr/local/lib/python3.7/dist-packages (from pandasql) (1.4.41)\n",
            "Requirement already satisfied: pytz>=2017.3 in /usr/local/lib/python3.7/dist-packages (from pandas->pandasql) (2022.2.1)\n",
            "Requirement already satisfied: python-dateutil>=2.7.3 in /usr/local/lib/python3.7/dist-packages (from pandas->pandasql) (2.8.2)\n",
            "Requirement already satisfied: six>=1.5 in /usr/local/lib/python3.7/dist-packages (from python-dateutil>=2.7.3->pandas->pandasql) (1.15.0)\n",
            "Requirement already satisfied: greenlet!=0.4.17 in /usr/local/lib/python3.7/dist-packages (from sqlalchemy->pandasql) (1.1.3)\n",
            "Requirement already satisfied: importlib-metadata in /usr/local/lib/python3.7/dist-packages (from sqlalchemy->pandasql) (4.12.0)\n",
            "Requirement already satisfied: zipp>=0.5 in /usr/local/lib/python3.7/dist-packages (from importlib-metadata->sqlalchemy->pandasql) (3.8.1)\n",
            "Requirement already satisfied: typing-extensions>=3.6.4 in /usr/local/lib/python3.7/dist-packages (from importlib-metadata->sqlalchemy->pandasql) (4.1.1)\n",
            "Building wheels for collected packages: pandasql\n",
            "  Building wheel for pandasql (setup.py) ... \u001b[?25l\u001b[?25hdone\n",
            "  Created wheel for pandasql: filename=pandasql-0.7.3-py3-none-any.whl size=26784 sha256=4325fe803bd10bea0c824cf91da082bb89b23aef9cfe998c82f16c510e62440a\n",
            "  Stored in directory: /root/.cache/pip/wheels/5c/4b/ec/41f4e116c8053c3654e2c2a47c62b4fca34cc67ef7b55deb7f\n",
            "Successfully built pandasql\n",
            "Installing collected packages: pandasql\n",
            "Successfully installed pandasql-0.7.3\n"
          ]
        }
      ],
      "source": [
        "import pandas as pd\n",
        "!pip install -U pandasql\n",
        "from pandasql import sqldf "
      ]
    },
    {
      "cell_type": "code",
      "execution_count": null,
      "metadata": {
        "colab": {
          "base_uri": "https://localhost:8080/"
        },
        "id": "_PWLkh458Vk1",
        "outputId": "60034e9f-05dc-40c3-852e-0182cf0fe36f"
      },
      "outputs": [
        {
          "output_type": "stream",
          "name": "stderr",
          "text": [
            "/usr/local/lib/python3.7/dist-packages/ipykernel_launcher.py:2: DeprecationWarning: `np.str` is a deprecated alias for the builtin `str`. To silence this warning, use `str` by itself. Doing this will not modify any behavior and is safe. If you specifically wanted the numpy scalar type, use `np.str_` here.\n",
            "Deprecated in NumPy 1.20; for more details and guidance: https://numpy.org/devdocs/release/1.20.0-notes.html#deprecations\n",
            "  \n"
          ]
        }
      ],
      "source": [
        "import numpy as np\n",
        "data = pd.read_excel(file_name,dtype=np.str)\n",
        "data = pd.DataFrame(data)\n"
      ]
    },
    {
      "cell_type": "code",
      "source": [
        "\n",
        "N,M = data.shape\n",
        "cols = data.columns"
      ],
      "metadata": {
        "id": "qCIjjDzTIquE"
      },
      "execution_count": null,
      "outputs": []
    },
    {
      "cell_type": "code",
      "execution_count": null,
      "metadata": {
        "colab": {
          "base_uri": "https://localhost:8080/",
          "height": 424
        },
        "id": "8yVUtHXDkCfA",
        "outputId": "0d84309e-6f07-4ad8-97c9-5ae80d4eec39"
      },
      "outputs": [
        {
          "output_type": "execute_result",
          "data": {
            "text/plain": [
              "          country    year     sex          age suicides_no population  \\\n",
              "0         Albania  1987.0    male  15-24 years        21.0   312900.0   \n",
              "1         Albania  1987.0    male  35-54 years        16.0   308000.0   \n",
              "2         Albania  1987.0  female  15-24 years        14.0   289700.0   \n",
              "3         Albania  1987.0    male    75+ years         1.0    21800.0   \n",
              "4         Albania  1987.0    male  25-34 years         9.0   274300.0   \n",
              "...           ...     ...     ...          ...         ...        ...   \n",
              "27815  Uzbekistan  2014.0  female  35-54 years       107.0  3620833.0   \n",
              "27816  Uzbekistan  2014.0  female    75+ years         9.0   348465.0   \n",
              "27817  Uzbekistan  2014.0    male   5-14 years        60.0  2762158.0   \n",
              "27818  Uzbekistan  2014.0  female   5-14 years        44.0  2631600.0   \n",
              "27819  Uzbekistan  2014.0  female  55-74 years        21.0  1438935.0   \n",
              "\n",
              "      suicides/100k pop    country-year HDI for year  gdp_for_year ($)   \\\n",
              "0                  6.71     Albania1987          NaN       2156624900.0   \n",
              "1                  5.19     Albania1987          NaN       2156624900.0   \n",
              "2                  4.83     Albania1987          NaN       2156624900.0   \n",
              "3                  4.59     Albania1987          NaN       2156624900.0   \n",
              "4                  3.28     Albania1987          NaN       2156624900.0   \n",
              "...                 ...             ...          ...                ...   \n",
              "27815              2.96  Uzbekistan2014        0.675      63067077179.0   \n",
              "27816              2.58  Uzbekistan2014        0.675      63067077179.0   \n",
              "27817              2.17  Uzbekistan2014        0.675      63067077179.0   \n",
              "27818              1.67  Uzbekistan2014        0.675      63067077179.0   \n",
              "27819              1.46  Uzbekistan2014        0.675      63067077179.0   \n",
              "\n",
              "      gdp_per_capita ($)       generation  \n",
              "0                  796.0     Generation X  \n",
              "1                  796.0           Silent  \n",
              "2                  796.0     Generation X  \n",
              "3                  796.0  G.I. Generation  \n",
              "4                  796.0          Boomers  \n",
              "...                  ...              ...  \n",
              "27815             2309.0     Generation X  \n",
              "27816             2309.0           Silent  \n",
              "27817             2309.0     Generation Z  \n",
              "27818             2309.0     Generation Z  \n",
              "27819             2309.0          Boomers  \n",
              "\n",
              "[27820 rows x 12 columns]"
            ],
            "text/html": [
              "\n",
              "  <div id=\"df-a7337538-9342-4989-b205-1c744191604e\">\n",
              "    <div class=\"colab-df-container\">\n",
              "      <div>\n",
              "<style scoped>\n",
              "    .dataframe tbody tr th:only-of-type {\n",
              "        vertical-align: middle;\n",
              "    }\n",
              "\n",
              "    .dataframe tbody tr th {\n",
              "        vertical-align: top;\n",
              "    }\n",
              "\n",
              "    .dataframe thead th {\n",
              "        text-align: right;\n",
              "    }\n",
              "</style>\n",
              "<table border=\"1\" class=\"dataframe\">\n",
              "  <thead>\n",
              "    <tr style=\"text-align: right;\">\n",
              "      <th></th>\n",
              "      <th>country</th>\n",
              "      <th>year</th>\n",
              "      <th>sex</th>\n",
              "      <th>age</th>\n",
              "      <th>suicides_no</th>\n",
              "      <th>population</th>\n",
              "      <th>suicides/100k pop</th>\n",
              "      <th>country-year</th>\n",
              "      <th>HDI for year</th>\n",
              "      <th>gdp_for_year ($)</th>\n",
              "      <th>gdp_per_capita ($)</th>\n",
              "      <th>generation</th>\n",
              "    </tr>\n",
              "  </thead>\n",
              "  <tbody>\n",
              "    <tr>\n",
              "      <th>0</th>\n",
              "      <td>Albania</td>\n",
              "      <td>1987.0</td>\n",
              "      <td>male</td>\n",
              "      <td>15-24 years</td>\n",
              "      <td>21.0</td>\n",
              "      <td>312900.0</td>\n",
              "      <td>6.71</td>\n",
              "      <td>Albania1987</td>\n",
              "      <td>NaN</td>\n",
              "      <td>2156624900.0</td>\n",
              "      <td>796.0</td>\n",
              "      <td>Generation X</td>\n",
              "    </tr>\n",
              "    <tr>\n",
              "      <th>1</th>\n",
              "      <td>Albania</td>\n",
              "      <td>1987.0</td>\n",
              "      <td>male</td>\n",
              "      <td>35-54 years</td>\n",
              "      <td>16.0</td>\n",
              "      <td>308000.0</td>\n",
              "      <td>5.19</td>\n",
              "      <td>Albania1987</td>\n",
              "      <td>NaN</td>\n",
              "      <td>2156624900.0</td>\n",
              "      <td>796.0</td>\n",
              "      <td>Silent</td>\n",
              "    </tr>\n",
              "    <tr>\n",
              "      <th>2</th>\n",
              "      <td>Albania</td>\n",
              "      <td>1987.0</td>\n",
              "      <td>female</td>\n",
              "      <td>15-24 years</td>\n",
              "      <td>14.0</td>\n",
              "      <td>289700.0</td>\n",
              "      <td>4.83</td>\n",
              "      <td>Albania1987</td>\n",
              "      <td>NaN</td>\n",
              "      <td>2156624900.0</td>\n",
              "      <td>796.0</td>\n",
              "      <td>Generation X</td>\n",
              "    </tr>\n",
              "    <tr>\n",
              "      <th>3</th>\n",
              "      <td>Albania</td>\n",
              "      <td>1987.0</td>\n",
              "      <td>male</td>\n",
              "      <td>75+ years</td>\n",
              "      <td>1.0</td>\n",
              "      <td>21800.0</td>\n",
              "      <td>4.59</td>\n",
              "      <td>Albania1987</td>\n",
              "      <td>NaN</td>\n",
              "      <td>2156624900.0</td>\n",
              "      <td>796.0</td>\n",
              "      <td>G.I. Generation</td>\n",
              "    </tr>\n",
              "    <tr>\n",
              "      <th>4</th>\n",
              "      <td>Albania</td>\n",
              "      <td>1987.0</td>\n",
              "      <td>male</td>\n",
              "      <td>25-34 years</td>\n",
              "      <td>9.0</td>\n",
              "      <td>274300.0</td>\n",
              "      <td>3.28</td>\n",
              "      <td>Albania1987</td>\n",
              "      <td>NaN</td>\n",
              "      <td>2156624900.0</td>\n",
              "      <td>796.0</td>\n",
              "      <td>Boomers</td>\n",
              "    </tr>\n",
              "    <tr>\n",
              "      <th>...</th>\n",
              "      <td>...</td>\n",
              "      <td>...</td>\n",
              "      <td>...</td>\n",
              "      <td>...</td>\n",
              "      <td>...</td>\n",
              "      <td>...</td>\n",
              "      <td>...</td>\n",
              "      <td>...</td>\n",
              "      <td>...</td>\n",
              "      <td>...</td>\n",
              "      <td>...</td>\n",
              "      <td>...</td>\n",
              "    </tr>\n",
              "    <tr>\n",
              "      <th>27815</th>\n",
              "      <td>Uzbekistan</td>\n",
              "      <td>2014.0</td>\n",
              "      <td>female</td>\n",
              "      <td>35-54 years</td>\n",
              "      <td>107.0</td>\n",
              "      <td>3620833.0</td>\n",
              "      <td>2.96</td>\n",
              "      <td>Uzbekistan2014</td>\n",
              "      <td>0.675</td>\n",
              "      <td>63067077179.0</td>\n",
              "      <td>2309.0</td>\n",
              "      <td>Generation X</td>\n",
              "    </tr>\n",
              "    <tr>\n",
              "      <th>27816</th>\n",
              "      <td>Uzbekistan</td>\n",
              "      <td>2014.0</td>\n",
              "      <td>female</td>\n",
              "      <td>75+ years</td>\n",
              "      <td>9.0</td>\n",
              "      <td>348465.0</td>\n",
              "      <td>2.58</td>\n",
              "      <td>Uzbekistan2014</td>\n",
              "      <td>0.675</td>\n",
              "      <td>63067077179.0</td>\n",
              "      <td>2309.0</td>\n",
              "      <td>Silent</td>\n",
              "    </tr>\n",
              "    <tr>\n",
              "      <th>27817</th>\n",
              "      <td>Uzbekistan</td>\n",
              "      <td>2014.0</td>\n",
              "      <td>male</td>\n",
              "      <td>5-14 years</td>\n",
              "      <td>60.0</td>\n",
              "      <td>2762158.0</td>\n",
              "      <td>2.17</td>\n",
              "      <td>Uzbekistan2014</td>\n",
              "      <td>0.675</td>\n",
              "      <td>63067077179.0</td>\n",
              "      <td>2309.0</td>\n",
              "      <td>Generation Z</td>\n",
              "    </tr>\n",
              "    <tr>\n",
              "      <th>27818</th>\n",
              "      <td>Uzbekistan</td>\n",
              "      <td>2014.0</td>\n",
              "      <td>female</td>\n",
              "      <td>5-14 years</td>\n",
              "      <td>44.0</td>\n",
              "      <td>2631600.0</td>\n",
              "      <td>1.67</td>\n",
              "      <td>Uzbekistan2014</td>\n",
              "      <td>0.675</td>\n",
              "      <td>63067077179.0</td>\n",
              "      <td>2309.0</td>\n",
              "      <td>Generation Z</td>\n",
              "    </tr>\n",
              "    <tr>\n",
              "      <th>27819</th>\n",
              "      <td>Uzbekistan</td>\n",
              "      <td>2014.0</td>\n",
              "      <td>female</td>\n",
              "      <td>55-74 years</td>\n",
              "      <td>21.0</td>\n",
              "      <td>1438935.0</td>\n",
              "      <td>1.46</td>\n",
              "      <td>Uzbekistan2014</td>\n",
              "      <td>0.675</td>\n",
              "      <td>63067077179.0</td>\n",
              "      <td>2309.0</td>\n",
              "      <td>Boomers</td>\n",
              "    </tr>\n",
              "  </tbody>\n",
              "</table>\n",
              "<p>27820 rows × 12 columns</p>\n",
              "</div>\n",
              "      <button class=\"colab-df-convert\" onclick=\"convertToInteractive('df-a7337538-9342-4989-b205-1c744191604e')\"\n",
              "              title=\"Convert this dataframe to an interactive table.\"\n",
              "              style=\"display:none;\">\n",
              "        \n",
              "  <svg xmlns=\"http://www.w3.org/2000/svg\" height=\"24px\"viewBox=\"0 0 24 24\"\n",
              "       width=\"24px\">\n",
              "    <path d=\"M0 0h24v24H0V0z\" fill=\"none\"/>\n",
              "    <path d=\"M18.56 5.44l.94 2.06.94-2.06 2.06-.94-2.06-.94-.94-2.06-.94 2.06-2.06.94zm-11 1L8.5 8.5l.94-2.06 2.06-.94-2.06-.94L8.5 2.5l-.94 2.06-2.06.94zm10 10l.94 2.06.94-2.06 2.06-.94-2.06-.94-.94-2.06-.94 2.06-2.06.94z\"/><path d=\"M17.41 7.96l-1.37-1.37c-.4-.4-.92-.59-1.43-.59-.52 0-1.04.2-1.43.59L10.3 9.45l-7.72 7.72c-.78.78-.78 2.05 0 2.83L4 21.41c.39.39.9.59 1.41.59.51 0 1.02-.2 1.41-.59l7.78-7.78 2.81-2.81c.8-.78.8-2.07 0-2.86zM5.41 20L4 18.59l7.72-7.72 1.47 1.35L5.41 20z\"/>\n",
              "  </svg>\n",
              "      </button>\n",
              "      \n",
              "  <style>\n",
              "    .colab-df-container {\n",
              "      display:flex;\n",
              "      flex-wrap:wrap;\n",
              "      gap: 12px;\n",
              "    }\n",
              "\n",
              "    .colab-df-convert {\n",
              "      background-color: #E8F0FE;\n",
              "      border: none;\n",
              "      border-radius: 50%;\n",
              "      cursor: pointer;\n",
              "      display: none;\n",
              "      fill: #1967D2;\n",
              "      height: 32px;\n",
              "      padding: 0 0 0 0;\n",
              "      width: 32px;\n",
              "    }\n",
              "\n",
              "    .colab-df-convert:hover {\n",
              "      background-color: #E2EBFA;\n",
              "      box-shadow: 0px 1px 2px rgba(60, 64, 67, 0.3), 0px 1px 3px 1px rgba(60, 64, 67, 0.15);\n",
              "      fill: #174EA6;\n",
              "    }\n",
              "\n",
              "    [theme=dark] .colab-df-convert {\n",
              "      background-color: #3B4455;\n",
              "      fill: #D2E3FC;\n",
              "    }\n",
              "\n",
              "    [theme=dark] .colab-df-convert:hover {\n",
              "      background-color: #434B5C;\n",
              "      box-shadow: 0px 1px 3px 1px rgba(0, 0, 0, 0.15);\n",
              "      filter: drop-shadow(0px 1px 2px rgba(0, 0, 0, 0.3));\n",
              "      fill: #FFFFFF;\n",
              "    }\n",
              "  </style>\n",
              "\n",
              "      <script>\n",
              "        const buttonEl =\n",
              "          document.querySelector('#df-a7337538-9342-4989-b205-1c744191604e button.colab-df-convert');\n",
              "        buttonEl.style.display =\n",
              "          google.colab.kernel.accessAllowed ? 'block' : 'none';\n",
              "\n",
              "        async function convertToInteractive(key) {\n",
              "          const element = document.querySelector('#df-a7337538-9342-4989-b205-1c744191604e');\n",
              "          const dataTable =\n",
              "            await google.colab.kernel.invokeFunction('convertToInteractive',\n",
              "                                                     [key], {});\n",
              "          if (!dataTable) return;\n",
              "\n",
              "          const docLinkHtml = 'Like what you see? Visit the ' +\n",
              "            '<a target=\"_blank\" href=https://colab.research.google.com/notebooks/data_table.ipynb>data table notebook</a>'\n",
              "            + ' to learn more about interactive tables.';\n",
              "          element.innerHTML = '';\n",
              "          dataTable['output_type'] = 'display_data';\n",
              "          await google.colab.output.renderOutput(dataTable, element);\n",
              "          const docLink = document.createElement('div');\n",
              "          docLink.innerHTML = docLinkHtml;\n",
              "          element.appendChild(docLink);\n",
              "        }\n",
              "      </script>\n",
              "    </div>\n",
              "  </div>\n",
              "  "
            ]
          },
          "metadata": {},
          "execution_count": 21
        }
      ],
      "source": [
        "data"
      ]
    },
    {
      "cell_type": "code",
      "execution_count": null,
      "metadata": {
        "colab": {
          "base_uri": "https://localhost:8080/"
        },
        "id": "pkE4tnVr9hlD",
        "outputId": "1765943a-bde9-4aa7-b1f0-0c5117d02611"
      },
      "outputs": [
        {
          "output_type": "stream",
          "name": "stdout",
          "text": [
            "No of records :  300\n",
            "No of columns :  3\n"
          ]
        }
      ],
      "source": [
        "\n",
        "print(\"No of records : \",N)\n",
        "print(\"No of columns : \",M)"
      ]
    },
    {
      "cell_type": "code",
      "execution_count": null,
      "metadata": {
        "colab": {
          "base_uri": "https://localhost:8080/",
          "height": 424
        },
        "id": "7jLopBh0N6wg",
        "outputId": "86c8be4c-0628-4bbc-d119-b540b7cfabf7"
      },
      "outputs": [
        {
          "output_type": "execute_result",
          "data": {
            "text/plain": [
              "                 country    year     sex\n",
              "0                Albania  1987.0    male\n",
              "1                Albania  1987.0    male\n",
              "2                Albania  1987.0  female\n",
              "3                Albania  1987.0    male\n",
              "4                Albania  1987.0    male\n",
              "..                   ...     ...     ...\n",
              "295  Antigua and Barbuda  1987.0    male\n",
              "296  Antigua and Barbuda  1987.0    male\n",
              "297  Antigua and Barbuda  1987.0    male\n",
              "298  Antigua and Barbuda  1987.0    male\n",
              "299  Antigua and Barbuda  1987.0    male\n",
              "\n",
              "[300 rows x 3 columns]"
            ],
            "text/html": [
              "\n",
              "  <div id=\"df-95ab8bcf-2dcf-461d-ab5a-9afff2ed0468\">\n",
              "    <div class=\"colab-df-container\">\n",
              "      <div>\n",
              "<style scoped>\n",
              "    .dataframe tbody tr th:only-of-type {\n",
              "        vertical-align: middle;\n",
              "    }\n",
              "\n",
              "    .dataframe tbody tr th {\n",
              "        vertical-align: top;\n",
              "    }\n",
              "\n",
              "    .dataframe thead th {\n",
              "        text-align: right;\n",
              "    }\n",
              "</style>\n",
              "<table border=\"1\" class=\"dataframe\">\n",
              "  <thead>\n",
              "    <tr style=\"text-align: right;\">\n",
              "      <th></th>\n",
              "      <th>country</th>\n",
              "      <th>year</th>\n",
              "      <th>sex</th>\n",
              "    </tr>\n",
              "  </thead>\n",
              "  <tbody>\n",
              "    <tr>\n",
              "      <th>0</th>\n",
              "      <td>Albania</td>\n",
              "      <td>1987.0</td>\n",
              "      <td>male</td>\n",
              "    </tr>\n",
              "    <tr>\n",
              "      <th>1</th>\n",
              "      <td>Albania</td>\n",
              "      <td>1987.0</td>\n",
              "      <td>male</td>\n",
              "    </tr>\n",
              "    <tr>\n",
              "      <th>2</th>\n",
              "      <td>Albania</td>\n",
              "      <td>1987.0</td>\n",
              "      <td>female</td>\n",
              "    </tr>\n",
              "    <tr>\n",
              "      <th>3</th>\n",
              "      <td>Albania</td>\n",
              "      <td>1987.0</td>\n",
              "      <td>male</td>\n",
              "    </tr>\n",
              "    <tr>\n",
              "      <th>4</th>\n",
              "      <td>Albania</td>\n",
              "      <td>1987.0</td>\n",
              "      <td>male</td>\n",
              "    </tr>\n",
              "    <tr>\n",
              "      <th>...</th>\n",
              "      <td>...</td>\n",
              "      <td>...</td>\n",
              "      <td>...</td>\n",
              "    </tr>\n",
              "    <tr>\n",
              "      <th>295</th>\n",
              "      <td>Antigua and Barbuda</td>\n",
              "      <td>1987.0</td>\n",
              "      <td>male</td>\n",
              "    </tr>\n",
              "    <tr>\n",
              "      <th>296</th>\n",
              "      <td>Antigua and Barbuda</td>\n",
              "      <td>1987.0</td>\n",
              "      <td>male</td>\n",
              "    </tr>\n",
              "    <tr>\n",
              "      <th>297</th>\n",
              "      <td>Antigua and Barbuda</td>\n",
              "      <td>1987.0</td>\n",
              "      <td>male</td>\n",
              "    </tr>\n",
              "    <tr>\n",
              "      <th>298</th>\n",
              "      <td>Antigua and Barbuda</td>\n",
              "      <td>1987.0</td>\n",
              "      <td>male</td>\n",
              "    </tr>\n",
              "    <tr>\n",
              "      <th>299</th>\n",
              "      <td>Antigua and Barbuda</td>\n",
              "      <td>1987.0</td>\n",
              "      <td>male</td>\n",
              "    </tr>\n",
              "  </tbody>\n",
              "</table>\n",
              "<p>300 rows × 3 columns</p>\n",
              "</div>\n",
              "      <button class=\"colab-df-convert\" onclick=\"convertToInteractive('df-95ab8bcf-2dcf-461d-ab5a-9afff2ed0468')\"\n",
              "              title=\"Convert this dataframe to an interactive table.\"\n",
              "              style=\"display:none;\">\n",
              "        \n",
              "  <svg xmlns=\"http://www.w3.org/2000/svg\" height=\"24px\"viewBox=\"0 0 24 24\"\n",
              "       width=\"24px\">\n",
              "    <path d=\"M0 0h24v24H0V0z\" fill=\"none\"/>\n",
              "    <path d=\"M18.56 5.44l.94 2.06.94-2.06 2.06-.94-2.06-.94-.94-2.06-.94 2.06-2.06.94zm-11 1L8.5 8.5l.94-2.06 2.06-.94-2.06-.94L8.5 2.5l-.94 2.06-2.06.94zm10 10l.94 2.06.94-2.06 2.06-.94-2.06-.94-.94-2.06-.94 2.06-2.06.94z\"/><path d=\"M17.41 7.96l-1.37-1.37c-.4-.4-.92-.59-1.43-.59-.52 0-1.04.2-1.43.59L10.3 9.45l-7.72 7.72c-.78.78-.78 2.05 0 2.83L4 21.41c.39.39.9.59 1.41.59.51 0 1.02-.2 1.41-.59l7.78-7.78 2.81-2.81c.8-.78.8-2.07 0-2.86zM5.41 20L4 18.59l7.72-7.72 1.47 1.35L5.41 20z\"/>\n",
              "  </svg>\n",
              "      </button>\n",
              "      \n",
              "  <style>\n",
              "    .colab-df-container {\n",
              "      display:flex;\n",
              "      flex-wrap:wrap;\n",
              "      gap: 12px;\n",
              "    }\n",
              "\n",
              "    .colab-df-convert {\n",
              "      background-color: #E8F0FE;\n",
              "      border: none;\n",
              "      border-radius: 50%;\n",
              "      cursor: pointer;\n",
              "      display: none;\n",
              "      fill: #1967D2;\n",
              "      height: 32px;\n",
              "      padding: 0 0 0 0;\n",
              "      width: 32px;\n",
              "    }\n",
              "\n",
              "    .colab-df-convert:hover {\n",
              "      background-color: #E2EBFA;\n",
              "      box-shadow: 0px 1px 2px rgba(60, 64, 67, 0.3), 0px 1px 3px 1px rgba(60, 64, 67, 0.15);\n",
              "      fill: #174EA6;\n",
              "    }\n",
              "\n",
              "    [theme=dark] .colab-df-convert {\n",
              "      background-color: #3B4455;\n",
              "      fill: #D2E3FC;\n",
              "    }\n",
              "\n",
              "    [theme=dark] .colab-df-convert:hover {\n",
              "      background-color: #434B5C;\n",
              "      box-shadow: 0px 1px 3px 1px rgba(0, 0, 0, 0.15);\n",
              "      filter: drop-shadow(0px 1px 2px rgba(0, 0, 0, 0.3));\n",
              "      fill: #FFFFFF;\n",
              "    }\n",
              "  </style>\n",
              "\n",
              "      <script>\n",
              "        const buttonEl =\n",
              "          document.querySelector('#df-95ab8bcf-2dcf-461d-ab5a-9afff2ed0468 button.colab-df-convert');\n",
              "        buttonEl.style.display =\n",
              "          google.colab.kernel.accessAllowed ? 'block' : 'none';\n",
              "\n",
              "        async function convertToInteractive(key) {\n",
              "          const element = document.querySelector('#df-95ab8bcf-2dcf-461d-ab5a-9afff2ed0468');\n",
              "          const dataTable =\n",
              "            await google.colab.kernel.invokeFunction('convertToInteractive',\n",
              "                                                     [key], {});\n",
              "          if (!dataTable) return;\n",
              "\n",
              "          const docLinkHtml = 'Like what you see? Visit the ' +\n",
              "            '<a target=\"_blank\" href=https://colab.research.google.com/notebooks/data_table.ipynb>data table notebook</a>'\n",
              "            + ' to learn more about interactive tables.';\n",
              "          element.innerHTML = '';\n",
              "          dataTable['output_type'] = 'display_data';\n",
              "          await google.colab.output.renderOutput(dataTable, element);\n",
              "          const docLink = document.createElement('div');\n",
              "          docLink.innerHTML = docLinkHtml;\n",
              "          element.appendChild(docLink);\n",
              "        }\n",
              "      </script>\n",
              "    </div>\n",
              "  </div>\n",
              "  "
            ]
          },
          "metadata": {},
          "execution_count": 8
        }
      ],
      "source": [
        "data"
      ]
    },
    {
      "cell_type": "code",
      "execution_count": null,
      "metadata": {
        "id": "OYkLiKXa-PMG"
      },
      "outputs": [],
      "source": [
        "class BUC_fit:\n",
        "  def __init__(self,min_support,cur_dir):\n",
        "    self.level = 0\n",
        "    self.min_support = min_support\n",
        "    self.data_cube_counter = 0\n",
        "    self.comb = \"\"\n",
        "    self.comb_ele = \"\"\n",
        "    self.data_cube_files_dict = {}\n",
        "    self.cur_dir = cur_dir\n",
        "    self.total_count=0\n",
        "\n",
        "  def partition(self,R,d):\n",
        "    return sqldf(f'select \\\"{cols[d]}\\\", COUNT(*) as count from R group by \\\"{cols[d]}\\\" order by COUNT(*)',locals())\n",
        "\n",
        "\n",
        "  def convert_to_columns(self,comb):\n",
        "    l = []\n",
        "    k = 0\n",
        "    for i in range(0,len(comb),1):\n",
        "      if(comb[i]=='~'):\n",
        "        l.append(comb[k:i])\n",
        "        k=i+1\n",
        "    col_string = \"\"\n",
        "    for ind in l:\n",
        "      col_string += cols[int(ind)]\n",
        "      col_string += '~'\n",
        "    return col_string\n",
        "\n",
        "  def is_file_present(self,comb):\n",
        "    import os\n",
        "    l = os.listdir(self.cur_dir)\n",
        "    return comb+\".txt\" in l\n",
        "\n",
        "  def create_partitioned_table(self,R,d,M,ele):\n",
        "    column_string = \"\"\n",
        "    for k in range(d,M,1):\n",
        "      column_string += \"\\\"\"\n",
        "      column_string += cols[k]    \n",
        "      column_string += \"\\\"\"\n",
        "      if(k!=(M-1)):\n",
        "        column_string+=', '\n",
        "    return sqldf(f'select {column_string} from R where \\\"{cols[d]}\\\" = \\\"{ele}\\\"',locals())\n",
        "\n",
        "  def BUC(self,R,dim,comb=\"\",comb_ele=\"\"):\n",
        "    self.level += 1\n",
        "    for d in range(dim,M,1):\n",
        "\n",
        "      partitions = self.partition(R,d)\n",
        "      cardinality = partitions.shape[0]\n",
        "      for c in range(cardinality):\n",
        "\n",
        "        freq = partitions.iloc[c][1]\n",
        "        ele = partitions.iloc[c][0]\n",
        "\n",
        "        if(freq < self.min_support):\n",
        "          continue\n",
        "        import os\n",
        "        dirs = os.listdir(self.cur_dir)\n",
        "        if f\"Level-{self.level}\" not in dirs:\n",
        "          os.mkdir(f\"{self.cur_dir}/Level-{self.level}\")\n",
        "        with open(f\"{self.cur_dir}/Level-{self.level}/{comb}{d}~.txt\",'a') as f:\n",
        "          self.total_count += 1\n",
        "          f.write(comb_ele+f\"{ele}~\"+str(freq)+\"\\n\")\n",
        "          f.close()\n",
        "\n",
        "        partitioned_table = self.create_partitioned_table(R,d,M,ele)\n",
        "        self.BUC(partitioned_table,d+1,comb+f\"{d}~\",comb_ele+f\"{ele}~\")\n",
        "\n",
        "\n",
        "    self.level -= 1    \n",
        "    return self.total_count"
      ]
    },
    {
      "cell_type": "code",
      "execution_count": null,
      "metadata": {
        "id": "8SCrMMCcT9ZM"
      },
      "outputs": [],
      "source": []
    },
    {
      "cell_type": "code",
      "execution_count": null,
      "metadata": {
        "colab": {
          "base_uri": "https://localhost:8080/"
        },
        "id": "NURU5rU2Erbe",
        "outputId": "4d266086-6435-48aa-e464-e25b6ca011b4"
      },
      "outputs": [
        {
          "output_type": "execute_result",
          "data": {
            "text/plain": [
              "Index(['country', 'year', 'sex'], dtype='object')"
            ]
          },
          "metadata": {},
          "execution_count": 10
        }
      ],
      "source": [
        "cols"
      ]
    },
    {
      "cell_type": "code",
      "execution_count": null,
      "metadata": {
        "id": "viSJUqkYrPtA"
      },
      "outputs": [],
      "source": []
    },
    {
      "cell_type": "code",
      "execution_count": null,
      "metadata": {
        "id": "QJQhV_MFnRFj"
      },
      "outputs": [],
      "source": [
        "def get_tuple_size(l):\n",
        "  size = 0\n",
        "  for c in l:\n",
        "    if(isinstance(c,str)):\n",
        "      size += len(c)*8\n",
        "    if(isinstance(c,float)):\n",
        "      size += 8\n",
        "  return size\n",
        "\n",
        "def write_string(row,f):\n",
        "  s=\"\"\n",
        "  for c in row:\n",
        "    s+=str(c)+'~'\n",
        "  f.write(s)\n",
        "  f.write(\"\\n\")\n",
        "\n",
        "def dataPartioner(data,paging_path):\n",
        "  import os\n",
        "  \n",
        "  try:\n",
        "    os.mkdir(paging_path)\n",
        "  except:\n",
        "    pass\n",
        "  delimeter = '~'\n",
        "  paths = {}\n",
        "  for index,row in data.iterrows():\n",
        "    country = row['country']\n",
        "    try:\n",
        "      with open(paths[country],'a') as f:\n",
        "        write_string(row,f)\n",
        "        f.close()\n",
        "    except: \n",
        "      paths[country] = paging_path+country\n",
        "      with open(paging_path+country,'w') as f:\n",
        "        write_string(row,f)\n",
        "        f.close()\n",
        "\n"
      ]
    },
    {
      "cell_type": "code",
      "execution_count": null,
      "metadata": {
        "id": "D8TQg0RXhsiD"
      },
      "outputs": [],
      "source": [
        "\n",
        "#Memory fixed M\n",
        "def memory_fixed_BUC(page_size,M,min_support):\n",
        "  i=0\n",
        "  t = 0\n",
        "  while i < len(page_size):\n",
        "    k=i\n",
        "    size_sum = 0\n",
        "    while i < len(page_size) :\n",
        "      if(size_sum + page_size[i][1] > M):\n",
        "        break\n",
        "      size_sum += page_size[i][1]\n",
        "      i+=1\n",
        "\n",
        "\n",
        "    memory_data = []\n",
        "    for j in range(k,i,1):\n",
        "      with open(page_size[j][0],'r') as f:\n",
        "        memory_data += [ line.split('~')[:-1] for line in f.readlines() ]\n",
        "\n",
        "    partioned_data = pd.DataFrame(memory_data,columns=cols)\n",
        "    \n",
        "    t+= BUC_fit(min_support,'./BUC').BUC(partioned_data,0)\n",
        "    \n",
        "    print(f\"{i} out of {len(page_size)} processed !\")\n",
        "  return t"
      ]
    },
    {
      "cell_type": "code",
      "execution_count": null,
      "metadata": {
        "id": "F9JfKMd0tMj1"
      },
      "outputs": [],
      "source": [
        "\n",
        "dataPartioner(data,\"./BUC/pages/\")"
      ]
    },
    {
      "cell_type": "code",
      "execution_count": null,
      "metadata": {
        "id": "qSP7Q8oosi2i"
      },
      "outputs": [],
      "source": [
        "\n",
        "page_size = []\n",
        "import os\n",
        "for f_name in os.listdir(\"./BUC/pages/\"):\n",
        "  page_size.append([\"./BUC/pages/\"+f_name,os.path.getsize(\"./BUC/pages/\"+f_name)])\n",
        "\n",
        "page_size.sort(key=lambda a : a[1] )\n"
      ]
    },
    {
      "cell_type": "code",
      "execution_count": null,
      "metadata": {
        "id": "XRlfNOy54Raq"
      },
      "outputs": [],
      "source": [
        "page_size"
      ]
    },
    {
      "cell_type": "code",
      "execution_count": null,
      "metadata": {
        "colab": {
          "base_uri": "https://localhost:8080/"
        },
        "id": "bNKyLmCx9yOw",
        "outputId": "f4945b76-95bd-4ae6-d5e4-d75cf10d7ccb"
      },
      "outputs": [
        {
          "output_type": "stream",
          "name": "stdout",
          "text": [
            "155\n"
          ]
        }
      ],
      "source": [
        "print(BUC_fit(3,'./BUC_in').BUC(data,0))"
      ]
    },
    {
      "cell_type": "code",
      "execution_count": null,
      "metadata": {
        "id": "ywOsmg0SgNv0"
      },
      "outputs": [],
      "source": [
        "print(memory_fixed_BUC(page_size,5900,3))"
      ]
    },
    {
      "cell_type": "code",
      "source": [
        "# Memory Fixed analysis\n",
        "min_s = [100,500,1000,2500,5000,10000]\n",
        "time_s = []"
      ],
      "metadata": {
        "id": "zslPMwsQNjBX"
      },
      "execution_count": null,
      "outputs": []
    },
    {
      "cell_type": "code",
      "source": [
        "import time\n",
        "s1 = time.time()\n",
        "BUC_fit(min_s[5],'./BUC_in').BUC(data,0)\n",
        "time_s.append(time.time() - s1)"
      ],
      "metadata": {
        "id": "dEfFm6DOAG5f"
      },
      "execution_count": null,
      "outputs": []
    },
    {
      "cell_type": "code",
      "source": [
        "from matplotlib import pyplot as plt\n",
        "plt.plot(min_s,time_s)\n",
        "plt.show()"
      ],
      "metadata": {
        "colab": {
          "base_uri": "https://localhost:8080/",
          "height": 267
        },
        "id": "Xp_c70siILw0",
        "outputId": "38fe162d-3670-4f9a-8d15-3c045aaf94c5"
      },
      "execution_count": null,
      "outputs": [
        {
          "output_type": "display_data",
          "data": {
            "text/plain": [
              "<Figure size 432x288 with 1 Axes>"
            ],
            "image/png": "[encoded data removed]"
          },
          "metadata": {
            "needs_background": "light"
          }
        }
      ]
    },
    {
      "cell_type": "code",
      "source": [
        "page_size "
      ],
      "metadata": {
        "colab": {
          "base_uri": "https://localhost:8080/"
        },
        "id": "K4m6AL0WL0SG",
        "outputId": "7f188a27-750a-4d5e-de52-9e556b1d9a6e"
      },
      "execution_count": null,
      "outputs": [
        {
          "output_type": "execute_result",
          "data": {
            "text/plain": [
              "[['./BUC/pages/Mongolia', 1018],\n",
              " ['./BUC/pages/Macau', 1128],\n",
              " ['./BUC/pages/Dominica', 1159],\n",
              " ['./BUC/pages/Cabo Verde', 1236],\n",
              " ['./BUC/pages/Bosnia and Herzegovina', 3140],\n",
              " ['./BUC/pages/Oman', 3390],\n",
              " ['./BUC/pages/San Marino', 3685],\n",
              " ['./BUC/pages/Saint Kitts and Nevis', 4409],\n",
              " ['./BUC/pages/Nicaragua', 7554],\n",
              " ['./BUC/pages/Turkey', 8611],\n",
              " ['./BUC/pages/United Arab Emirates', 9121],\n",
              " ['./BUC/pages/Maldives', 11739],\n",
              " ['./BUC/pages/Fiji', 11933],\n",
              " ['./BUC/pages/Montenegro', 12238],\n",
              " ['./BUC/pages/Kiribati', 12511],\n",
              " ['./BUC/pages/Sri Lanka', 13992],\n",
              " ['./BUC/pages/Aruba', 15514],\n",
              " ['./BUC/pages/Qatar', 17030],\n",
              " ['./BUC/pages/Cyprus', 17301],\n",
              " ['./BUC/pages/Philippines', 19728],\n",
              " ['./BUC/pages/Azerbaijan', 19887],\n",
              " ['./BUC/pages/Jamaica', 20046],\n",
              " ['./BUC/pages/Serbia', 21395],\n",
              " ['./BUC/pages/Seychelles', 22067],\n",
              " ['./BUC/pages/Bahrain', 24873],\n",
              " ['./BUC/pages/Latvia', 24912],\n",
              " ['./BUC/pages/Estonia', 25256],\n",
              " ['./BUC/pages/Belarus', 25650],\n",
              " ['./BUC/pages/Albania', 25900],\n",
              " ['./BUC/pages/Georgia', 26093],\n",
              " ['./BUC/pages/Slovenia', 26139],\n",
              " ['./BUC/pages/Croatia', 26605],\n",
              " ['./BUC/pages/South Africa', 26858],\n",
              " ['./BUC/pages/Bahamas', 27010],\n",
              " ['./BUC/pages/Slovakia', 27137],\n",
              " ['./BUC/pages/Denmark', 27141],\n",
              " ['./BUC/pages/Cuba', 27561],\n",
              " ['./BUC/pages/Lithuania', 27706],\n",
              " ['./BUC/pages/Switzerland', 28106],\n",
              " ['./BUC/pages/Uzbekistan', 28317],\n",
              " ['./BUC/pages/Guyana', 28570],\n",
              " ['./BUC/pages/Poland', 29273],\n",
              " ['./BUC/pages/Armenia', 29291],\n",
              " ['./BUC/pages/Panama', 29381],\n",
              " ['./BUC/pages/Grenada', 29417],\n",
              " ['./BUC/pages/Kuwait', 29494],\n",
              " ['./BUC/pages/Barbados', 29845],\n",
              " ['./BUC/pages/El Salvador', 31232],\n",
              " ['./BUC/pages/Belize', 31740],\n",
              " ['./BUC/pages/Hungary', 31873],\n",
              " ['./BUC/pages/Kyrgyzstan', 32759],\n",
              " ['./BUC/pages/Paraguay', 32866],\n",
              " ['./BUC/pages/Germany', 33182],\n",
              " ['./BUC/pages/Suriname', 33523],\n",
              " ['./BUC/pages/Uruguay', 33929],\n",
              " ['./BUC/pages/Portugal', 33983],\n",
              " ['./BUC/pages/Kazakhstan', 34071],\n",
              " ['./BUC/pages/Romania', 34348],\n",
              " ['./BUC/pages/Ukraine', 34691],\n",
              " ['./BUC/pages/Saint Lucia', 34998],\n",
              " ['./BUC/pages/Malta', 35027],\n",
              " ['./BUC/pages/Thailand', 35221],\n",
              " ['./BUC/pages/Canada', 35886],\n",
              " ['./BUC/pages/Finland', 35946],\n",
              " ['./BUC/pages/Norway', 36405],\n",
              " ['./BUC/pages/Sweden', 36409],\n",
              " ['./BUC/pages/Chile', 36733],\n",
              " ['./BUC/pages/Ireland', 36764],\n",
              " ['./BUC/pages/Bulgaria', 37330],\n",
              " ['./BUC/pages/Israel', 37344],\n",
              " ['./BUC/pages/Greece', 37386],\n",
              " ['./BUC/pages/Guatemala', 37512],\n",
              " ['./BUC/pages/Spain', 37522],\n",
              " ['./BUC/pages/Czech Republic', 37554],\n",
              " ['./BUC/pages/France', 37634],\n",
              " ['./BUC/pages/Ecuador', 37758],\n",
              " ['./BUC/pages/Italy', 37771],\n",
              " ['./BUC/pages/Iceland', 37923],\n",
              " ['./BUC/pages/Turkmenistan', 37952],\n",
              " ['./BUC/pages/Mexico', 38036],\n",
              " ['./BUC/pages/Costa Rica', 38208],\n",
              " ['./BUC/pages/Brazil', 38382],\n",
              " ['./BUC/pages/New Zealand', 38383],\n",
              " ['./BUC/pages/Japan', 38424],\n",
              " ['./BUC/pages/Antigua and Barbuda', 38696],\n",
              " ['./BUC/pages/Belgium', 38711],\n",
              " ['./BUC/pages/Colombia', 38882],\n",
              " ['./BUC/pages/Australia', 39073],\n",
              " ['./BUC/pages/Mauritius', 39375],\n",
              " ['./BUC/pages/Singapore', 39495],\n",
              " ['./BUC/pages/Luxembourg', 39563],\n",
              " ['./BUC/pages/Austria', 39643],\n",
              " ['./BUC/pages/Trinidad and Tobago', 40029],\n",
              " ['./BUC/pages/Argentina', 40082],\n",
              " ['./BUC/pages/Puerto Rico', 40465],\n",
              " ['./BUC/pages/Saint Vincent and Grenadines', 41238],\n",
              " ['./BUC/pages/Russian Federation', 41320],\n",
              " ['./BUC/pages/Netherlands', 42802],\n",
              " ['./BUC/pages/United Kingdom', 44478],\n",
              " ['./BUC/pages/United States', 44713],\n",
              " ['./BUC/pages/Republic of Korea', 46359]]"
            ]
          },
          "metadata": {},
          "execution_count": 46
        }
      ]
    },
    {
      "cell_type": "code",
      "source": [
        "memory_size = [1,2,4,0.5,0.1]\n"
      ],
      "metadata": {
        "id": "0jNzmAzVM4-O"
      },
      "execution_count": null,
      "outputs": []
    },
    {
      "cell_type": "code",
      "source": [
        "import time\n",
        "s = time.time()\n",
        "memory_fixed_BUC(page_size,memory_size[4]*1e6,1000)\n",
        "time_memory.append(time.time()-s)"
      ],
      "metadata": {
        "colab": {
          "base_uri": "https://localhost:8080/"
        },
        "id": "tbHE5DnRNO7M",
        "outputId": "299104c7-a3b3-493e-8265-585bc6c29919"
      },
      "execution_count": null,
      "outputs": [
        {
          "output_type": "stream",
          "name": "stdout",
          "text": [
            "15 out of 101 processed !\n",
            "20 out of 101 processed !\n",
            "24 out of 101 processed !\n",
            "27 out of 101 processed !\n",
            "30 out of 101 processed !\n",
            "33 out of 101 processed !\n",
            "36 out of 101 processed !\n",
            "39 out of 101 processed !\n",
            "42 out of 101 processed !\n",
            "45 out of 101 processed !\n",
            "48 out of 101 processed !\n",
            "51 out of 101 processed !\n",
            "54 out of 101 processed !\n",
            "56 out of 101 processed !\n",
            "58 out of 101 processed !\n",
            "60 out of 101 processed !\n",
            "62 out of 101 processed !\n",
            "64 out of 101 processed !\n",
            "66 out of 101 processed !\n",
            "68 out of 101 processed !\n",
            "70 out of 101 processed !\n",
            "72 out of 101 processed !\n",
            "74 out of 101 processed !\n",
            "76 out of 101 processed !\n",
            "78 out of 101 processed !\n",
            "80 out of 101 processed !\n",
            "82 out of 101 processed !\n",
            "84 out of 101 processed !\n",
            "86 out of 101 processed !\n",
            "88 out of 101 processed !\n",
            "90 out of 101 processed !\n",
            "92 out of 101 processed !\n",
            "94 out of 101 processed !\n",
            "96 out of 101 processed !\n",
            "98 out of 101 processed !\n",
            "100 out of 101 processed !\n",
            "101 out of 101 processed !\n"
          ]
        }
      ]
    },
    {
      "cell_type": "code",
      "source": [
        "memory_size = [0.1,0.5,1,2,4]\n",
        "time_memory = [27.97177815437317,55.176008224487305,102.53615212440491, 141.9711558818817, 186.30846643447876]"
      ],
      "metadata": {
        "id": "ThIDPdauPF_D"
      },
      "execution_count": null,
      "outputs": []
    },
    {
      "cell_type": "code",
      "source": [
        "from matplotlib import pyplot as plt\n",
        "plt.plot(memory_size,time_memory)\n",
        "plt.show()"
      ],
      "metadata": {
        "colab": {
          "base_uri": "https://localhost:8080/",
          "height": 265
        },
        "id": "3AfzWpuiOeh2",
        "outputId": "29d21c96-f815-49fa-adf1-e718e11d21ac"
      },
      "execution_count": null,
      "outputs": [
        {
          "output_type": "display_data",
          "data": {
            "text/plain": [
              "<Figure size 432x288 with 1 Axes>"
            ],
            "image/png": "[encoded data removed]"
          },
          "metadata": {
            "needs_background": "light"
          }
        }
      ]
    }
  ],
  "metadata": {
    "colab": {
      "collapsed_sections": [],
      "provenance": []
    },
    "kernelspec": {
      "display_name": "Python 3",
      "name": "python3"
    },
    "language_info": {
      "name": "python"
    }
  },
  "nbformat": 4,
  "nbformat_minor": 0
}