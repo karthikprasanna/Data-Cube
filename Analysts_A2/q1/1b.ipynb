{
 "cells": [
  {
   "cell_type": "code",
   "execution_count": 2,
   "metadata": {},
   "outputs": [],
   "source": [
    "import numpy as np\n",
    "import pandas as pd\n",
    "\n",
    "pd.options.mode.chained_assignment = None   # default='warn'\n",
    "data = pd.read_excel('cleaned_data.xlsx')"
   ]
  },
  {
   "cell_type": "code",
   "execution_count": 3,
   "metadata": {},
   "outputs": [],
   "source": [
    "data['Price_per_unit_area'] = data['Price_per_unit_area'].astype(str).str.replace(',', '').astype(int)\n",
    "data['Price'] = data['Price'].astype(str).str.replace(',', '').astype(int)\n",
    "data['Size'].astype(str)\n",
    "data['Size'] = data['Size'].str.removesuffix(' sq ft').str.replace(',', '').astype(int)"
   ]
  },
  {
   "cell_type": "code",
   "execution_count": 4,
   "metadata": {},
   "outputs": [],
   "source": [
    "data2 = data.copy()"
   ]
  },
  {
   "cell_type": "code",
   "execution_count": 53,
   "metadata": {},
   "outputs": [],
   "source": [
    "data = data2.copy()"
   ]
  },
  {
   "cell_type": "code",
   "execution_count": 54,
   "metadata": {},
   "outputs": [],
   "source": [
    "attrbs = ['Property_Name', 'Property_id', 'Project_URL', 'builder_id', 'Builder_name', 'Locality_ID', 'Longitude', 'Latitude', 'Sub_urban_ID', 'description', 'City_id', 'Listing_Category', 'is_plot', 'is_RERA_registered', 'is_Apartment', 'is_ready_to_move', 'is_commercial_Listing', 'is_PentaHouse', 'is_studio', 'listing_domain_score', 'No_of_BHK', 'Locality_Name', 'Sub_urban_name', 'Posted_On', 'Price_per_unit_area', 'Property_building_status', 'is_furnished']\n",
    "\n",
    "for att in attrbs:\n",
    "    data.drop(att, axis=1, inplace=True)"
   ]
  },
  {
   "cell_type": "code",
   "execution_count": 55,
   "metadata": {},
   "outputs": [],
   "source": [
    "underConstruction = data[data['Property_status'] == 'Under Construction']\n",
    "readyToMove = data[data['Property_status'] == 'Ready to move']"
   ]
  },
  {
   "cell_type": "code",
   "execution_count": 56,
   "metadata": {},
   "outputs": [],
   "source": [
    "def priceG(dataset):\n",
    "    _gold = ((data['Price'] <= 8000000000) & (data['Price'] >= 50000000))\n",
    "    _silver = ((data['Price'] < 50000000) & (data['Price'] >= 2000000))\n",
    "    _bronze = ((data['Price'] < 2000000) & (data['Price'] >= 100000))\n",
    "\n",
    "    dataset.loc[_bronze, ['Price']] = 'Bronze'\n",
    "    dataset.loc[_silver, ['Price']] = 'Silver'\n",
    "    dataset.loc[_gold, ['Price']] = 'Gold'"
   ]
  },
  {
   "cell_type": "code",
   "execution_count": 57,
   "metadata": {},
   "outputs": [],
   "source": [
    "def sizeG(dataset):\n",
    "    _large = ((data['Size'] <= 90000) & (data['Size'] >= 50000))\n",
    "    _medium = ((data['Size'] < 50000) & (data['Size'] >= 5000))\n",
    "    _small = ((data['Size'] < 5000) & (data['Size'] >= 100))\n",
    "\n",
    "    dataset.loc[_large, ['Size']] = 'Large'\n",
    "    dataset.loc[_medium, ['Size']] = 'Medium'\n",
    "    dataset.loc[_small, ['Size']] = 'Small'"
   ]
  },
  {
   "cell_type": "code",
   "execution_count": 58,
   "metadata": {},
   "outputs": [],
   "source": [
    "def work(a, b):\n",
    "    priceG(a)\n",
    "    priceG(b)\n",
    "    sizeG(a)\n",
    "    sizeG(b)"
   ]
  },
  {
   "cell_type": "code",
   "execution_count": 59,
   "metadata": {},
   "outputs": [
    {
     "name": "stderr",
     "output_type": "stream",
     "text": [
      "/tmp/ipykernel_71677/2737076903.py:6: SettingWithCopyWarning: \n",
      "A value is trying to be set on a copy of a slice from a DataFrame.\n",
      "Try using .loc[row_indexer,col_indexer] = value instead\n",
      "\n",
      "See the caveats in the documentation: https://pandas.pydata.org/pandas-docs/stable/user_guide/indexing.html#returning-a-view-versus-a-copy\n",
      "  dataset.loc[_bronze, ['Price']] = 'Bronze'\n",
      "/tmp/ipykernel_71677/2737076903.py:6: SettingWithCopyWarning: \n",
      "A value is trying to be set on a copy of a slice from a DataFrame.\n",
      "Try using .loc[row_indexer,col_indexer] = value instead\n",
      "\n",
      "See the caveats in the documentation: https://pandas.pydata.org/pandas-docs/stable/user_guide/indexing.html#returning-a-view-versus-a-copy\n",
      "  dataset.loc[_bronze, ['Price']] = 'Bronze'\n",
      "/tmp/ipykernel_71677/72417587.py:6: SettingWithCopyWarning: \n",
      "A value is trying to be set on a copy of a slice from a DataFrame.\n",
      "Try using .loc[row_indexer,col_indexer] = value instead\n",
      "\n",
      "See the caveats in the documentation: https://pandas.pydata.org/pandas-docs/stable/user_guide/indexing.html#returning-a-view-versus-a-copy\n",
      "  dataset.loc[_large, ['Size']] = 'Large'\n",
      "/tmp/ipykernel_71677/72417587.py:6: SettingWithCopyWarning: \n",
      "A value is trying to be set on a copy of a slice from a DataFrame.\n",
      "Try using .loc[row_indexer,col_indexer] = value instead\n",
      "\n",
      "See the caveats in the documentation: https://pandas.pydata.org/pandas-docs/stable/user_guide/indexing.html#returning-a-view-versus-a-copy\n",
      "  dataset.loc[_large, ['Size']] = 'Large'\n"
     ]
    }
   ],
   "source": [
    "work(underConstruction, readyToMove)\n",
    "readyToMove = readyToMove.drop(['City_name'], axis=1)\n",
    "underConstruction = underConstruction.drop(['City_name'], axis=1)\n",
    "\n",
    "readyToMove = readyToMove.drop_duplicates()\n",
    "underConstruction = underConstruction.drop_duplicates()\n"
   ]
  },
  {
   "cell_type": "code",
   "execution_count": 60,
   "metadata": {},
   "outputs": [],
   "source": [
    "_underCost = []\n",
    "_readyToMove = []\n",
    "\n",
    "for i in range(len(underConstruction)):\n",
    "    for j in range(len(readyToMove)):\n",
    "        if underConstruction.iloc[i]['Price'] == readyToMove.iloc[j]['Price'] and underConstruction.iloc[i]['Property_type'] == readyToMove.iloc[j]['Property_type'] and underConstruction.iloc[i]['Size'] == readyToMove.iloc[j]['Size']:\n",
    "            _underCost.append(i)\n",
    "\n",
    "for i in range(len(readyToMove)):\n",
    "    for j in range(len(underConstruction)):\n",
    "        if readyToMove.iloc[i]['Price'] == underConstruction.iloc[j]['Price'] and readyToMove.iloc[i]['Property_type'] == underConstruction.iloc[j]['Property_type'] and readyToMove.iloc[i]['Size'] == underConstruction.iloc[j]['Size']:\n",
    "            _readyToMove.append(i)\n",
    "\n",
    "underConstruction.drop(underConstruction.index[_underCost], inplace=True)\n",
    "readyToMove.drop(readyToMove.index[_readyToMove], inplace=True)"
   ]
  },
  {
   "cell_type": "code",
   "execution_count": 61,
   "metadata": {},
   "outputs": [
    {
     "data": {
      "text/html": [
       "<div>\n",
       "<style scoped>\n",
       "    .dataframe tbody tr th:only-of-type {\n",
       "        vertical-align: middle;\n",
       "    }\n",
       "\n",
       "    .dataframe tbody tr th {\n",
       "        vertical-align: top;\n",
       "    }\n",
       "\n",
       "    .dataframe thead th {\n",
       "        text-align: right;\n",
       "    }\n",
       "</style>\n",
       "<table border=\"1\" class=\"dataframe\">\n",
       "  <thead>\n",
       "    <tr style=\"text-align: right;\">\n",
       "      <th></th>\n",
       "      <th>Property_type</th>\n",
       "      <th>Property_status</th>\n",
       "      <th>Price</th>\n",
       "      <th>Size</th>\n",
       "    </tr>\n",
       "  </thead>\n",
       "  <tbody>\n",
       "    <tr>\n",
       "      <th>475</th>\n",
       "      <td>Residential Plot</td>\n",
       "      <td>Under Construction</td>\n",
       "      <td>Silver</td>\n",
       "      <td>Large</td>\n",
       "    </tr>\n",
       "  </tbody>\n",
       "</table>\n",
       "</div>"
      ],
      "text/plain": [
       "        Property_type     Property_status   Price   Size\n",
       "475  Residential Plot  Under Construction  Silver  Large"
      ]
     },
     "execution_count": 61,
     "metadata": {},
     "output_type": "execute_result"
    }
   ],
   "source": [
    "underConstruction"
   ]
  },
  {
   "cell_type": "markdown",
   "metadata": {},
   "source": [
    "We infer the rule *\"Residential plots under construction are of silver price and large size\"*. Converting it into a logic formula, we get:\n",
    "\n",
    "$$\\forall \\; (x) \\; \\text{UnderConstruction}(x) <= \\text{Property Type}(x) \\in \\text{Residential Plot} \\wedge \\text{Price}(x) \\in \\text{silver} \\wedge \\text{Size}(x) \\in \\text{Large}$$"
   ]
  },
  {
   "cell_type": "code",
   "execution_count": 62,
   "metadata": {},
   "outputs": [
    {
     "data": {
      "text/html": [
       "<div>\n",
       "<style scoped>\n",
       "    .dataframe tbody tr th:only-of-type {\n",
       "        vertical-align: middle;\n",
       "    }\n",
       "\n",
       "    .dataframe tbody tr th {\n",
       "        vertical-align: top;\n",
       "    }\n",
       "\n",
       "    .dataframe thead th {\n",
       "        text-align: right;\n",
       "    }\n",
       "</style>\n",
       "<table border=\"1\" class=\"dataframe\">\n",
       "  <thead>\n",
       "    <tr style=\"text-align: right;\">\n",
       "      <th></th>\n",
       "      <th>Property_type</th>\n",
       "      <th>Property_status</th>\n",
       "      <th>Price</th>\n",
       "      <th>Size</th>\n",
       "    </tr>\n",
       "  </thead>\n",
       "  <tbody>\n",
       "    <tr>\n",
       "      <th>3758</th>\n",
       "      <td>Residential Plot</td>\n",
       "      <td>Ready to move</td>\n",
       "      <td>Gold</td>\n",
       "      <td>Small</td>\n",
       "    </tr>\n",
       "  </tbody>\n",
       "</table>\n",
       "</div>"
      ],
      "text/plain": [
       "         Property_type Property_status Price   Size\n",
       "3758  Residential Plot   Ready to move  Gold  Small"
      ]
     },
     "execution_count": 62,
     "metadata": {},
     "output_type": "execute_result"
    }
   ],
   "source": [
    "readyToMove"
   ]
  },
  {
   "cell_type": "markdown",
   "metadata": {},
   "source": [
    "We infer the rule *\"Residential plots ready to move are of gold price and small size\"*. Converting it into a logic formula, we get:\n",
    "\n",
    "$$\\forall \\; (x) \\; \\text{Ready to Move}(x) <= \\text{Property Type}(x) \\in \\text{Residential Plot} \\wedge \\text{Price}(x) \\in \\text{gold} \\wedge \\text{Size}(x) \\in \\text{small}$$"
   ]
  },
  {
   "cell_type": "code",
   "execution_count": 63,
   "metadata": {},
   "outputs": [
    {
     "name": "stderr",
     "output_type": "stream",
     "text": [
      "/tmp/ipykernel_71677/941310139.py:2: SettingWithCopyWarning: \n",
      "A value is trying to be set on a copy of a slice from a DataFrame.\n",
      "Try using .loc[row_indexer,col_indexer] = value instead\n",
      "\n",
      "See the caveats in the documentation: https://pandas.pydata.org/pandas-docs/stable/user_guide/indexing.html#returning-a-view-versus-a-copy\n",
      "  tech_city['City_name'] = 'Tech City'\n",
      "/tmp/ipykernel_71677/941310139.py:4: SettingWithCopyWarning: \n",
      "A value is trying to be set on a copy of a slice from a DataFrame.\n",
      "Try using .loc[row_indexer,col_indexer] = value instead\n",
      "\n",
      "See the caveats in the documentation: https://pandas.pydata.org/pandas-docs/stable/user_guide/indexing.html#returning-a-view-versus-a-copy\n",
      "  other_city['City_name'] = 'Other City'\n"
     ]
    }
   ],
   "source": [
    "tech_city = data[(data['City_name'] == 'Hyderabad') | (data['City_name'] == 'Bangalore') | (data['City_name'] == 'Ahmedabad') | (data['City_name'] == 'Mumbai')]\n",
    "tech_city['City_name'] = 'Tech City'\n",
    "other_city = data[(data['City_name'] == 'Chennai') | (data['City_name'] == 'Kolkata') | (data['City_name'] == 'Delhi') | (data['City_name'] == 'Lucknow')]\n",
    "other_city['City_name'] = 'Other City'"
   ]
  },
  {
   "cell_type": "code",
   "execution_count": 64,
   "metadata": {},
   "outputs": [
    {
     "name": "stderr",
     "output_type": "stream",
     "text": [
      "/tmp/ipykernel_71677/2737076903.py:6: SettingWithCopyWarning: \n",
      "A value is trying to be set on a copy of a slice from a DataFrame.\n",
      "Try using .loc[row_indexer,col_indexer] = value instead\n",
      "\n",
      "See the caveats in the documentation: https://pandas.pydata.org/pandas-docs/stable/user_guide/indexing.html#returning-a-view-versus-a-copy\n",
      "  dataset.loc[_bronze, ['Price']] = 'Bronze'\n",
      "/tmp/ipykernel_71677/2737076903.py:6: SettingWithCopyWarning: \n",
      "A value is trying to be set on a copy of a slice from a DataFrame.\n",
      "Try using .loc[row_indexer,col_indexer] = value instead\n",
      "\n",
      "See the caveats in the documentation: https://pandas.pydata.org/pandas-docs/stable/user_guide/indexing.html#returning-a-view-versus-a-copy\n",
      "  dataset.loc[_bronze, ['Price']] = 'Bronze'\n",
      "/tmp/ipykernel_71677/72417587.py:6: SettingWithCopyWarning: \n",
      "A value is trying to be set on a copy of a slice from a DataFrame.\n",
      "Try using .loc[row_indexer,col_indexer] = value instead\n",
      "\n",
      "See the caveats in the documentation: https://pandas.pydata.org/pandas-docs/stable/user_guide/indexing.html#returning-a-view-versus-a-copy\n",
      "  dataset.loc[_large, ['Size']] = 'Large'\n",
      "/tmp/ipykernel_71677/72417587.py:6: SettingWithCopyWarning: \n",
      "A value is trying to be set on a copy of a slice from a DataFrame.\n",
      "Try using .loc[row_indexer,col_indexer] = value instead\n",
      "\n",
      "See the caveats in the documentation: https://pandas.pydata.org/pandas-docs/stable/user_guide/indexing.html#returning-a-view-versus-a-copy\n",
      "  dataset.loc[_large, ['Size']] = 'Large'\n"
     ]
    }
   ],
   "source": [
    "work(tech_city, other_city)\n",
    "\n",
    "tech_city = tech_city.drop_duplicates()\n",
    "other_city = other_city.drop_duplicates()"
   ]
  },
  {
   "cell_type": "code",
   "execution_count": 65,
   "metadata": {},
   "outputs": [],
   "source": [
    "_techCity = []\n",
    "_otherCity = []\n",
    "\n",
    "for i in range(len(tech_city)):\n",
    "    for j in range(len(other_city)):\n",
    "        if tech_city.iloc[i]['Property_type'] == other_city.iloc[j]['Property_type'] and tech_city.iloc[i]['Price'] == other_city.iloc[j]['Price'] and tech_city.iloc[i]['Size'] == other_city.iloc[j]['Size']:\n",
    "            _techCity.append(i)\n",
    "\n",
    "for i in range(len(other_city)):\n",
    "    for j in range(len(tech_city)):\n",
    "        if other_city.iloc[i]['Property_type'] == tech_city.iloc[j]['Property_type'] and other_city.iloc[i]['Price'] == tech_city.iloc[j]['Price'] and other_city.iloc[i]['Size'] == tech_city.iloc[j]['Size']:\n",
    "            _otherCity.append(i)\n",
    "\n",
    "tech_city = tech_city.drop(tech_city.index[_techCity])\n",
    "other_city = other_city.drop(other_city.index[_otherCity])"
   ]
  },
  {
   "cell_type": "code",
   "execution_count": 66,
   "metadata": {},
   "outputs": [
    {
     "data": {
      "text/html": [
       "<div>\n",
       "<style scoped>\n",
       "    .dataframe tbody tr th:only-of-type {\n",
       "        vertical-align: middle;\n",
       "    }\n",
       "\n",
       "    .dataframe tbody tr th {\n",
       "        vertical-align: top;\n",
       "    }\n",
       "\n",
       "    .dataframe thead th {\n",
       "        text-align: right;\n",
       "    }\n",
       "</style>\n",
       "<table border=\"1\" class=\"dataframe\">\n",
       "  <thead>\n",
       "    <tr style=\"text-align: right;\">\n",
       "      <th></th>\n",
       "      <th>Property_type</th>\n",
       "      <th>Property_status</th>\n",
       "      <th>City_name</th>\n",
       "      <th>Price</th>\n",
       "      <th>Size</th>\n",
       "    </tr>\n",
       "  </thead>\n",
       "  <tbody>\n",
       "    <tr>\n",
       "      <th>475</th>\n",
       "      <td>Residential Plot</td>\n",
       "      <td>Under Construction</td>\n",
       "      <td>Tech City</td>\n",
       "      <td>Silver</td>\n",
       "      <td>Large</td>\n",
       "    </tr>\n",
       "  </tbody>\n",
       "</table>\n",
       "</div>"
      ],
      "text/plain": [
       "        Property_type     Property_status  City_name   Price   Size\n",
       "475  Residential Plot  Under Construction  Tech City  Silver  Large"
      ]
     },
     "execution_count": 66,
     "metadata": {},
     "output_type": "execute_result"
    }
   ],
   "source": [
    "tech_city"
   ]
  },
  {
   "cell_type": "markdown",
   "metadata": {},
   "source": [
    "We infer the rule *\"Residential Plot in Tech cities are of silver price and large size\"*. Converting it into a logic formula, we get:\n",
    "\n",
    "$$\\forall \\; (x) \\; \\text{Tech City}(x) <= \\text{Property Type}(x) \\in \\text{Residential Plot} \\wedge \\text{Price}(x) \\in \\text{Silver} \\wedge \\text{Size}(x) \\in \\text{Large}$$"
   ]
  },
  {
   "cell_type": "markdown",
   "metadata": {},
   "source": []
  }
 ],
 "metadata": {
  "kernelspec": {
   "display_name": "Python 3.8.10 64-bit",
   "language": "python",
   "name": "python3"
  },
  "language_info": {
   "codemirror_mode": {
    "name": "ipython",
    "version": 3
   },
   "file_extension": ".py",
   "mimetype": "text/x-python",
   "name": "python",
   "nbconvert_exporter": "python",
   "pygments_lexer": "ipython3",
   "version": "3.8.10"
  },
  "orig_nbformat": 4,
  "vscode": {
   "interpreter": {
    "hash": "916dbcbb3f70747c44a77c7bcd40155683ae19c65e1c03b4aa3499c5328201f1"
   }
  }
 },
 "nbformat": 4,
 "nbformat_minor": 2
}
